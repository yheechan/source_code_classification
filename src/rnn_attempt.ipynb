{
 "cells": [
  {
   "cell_type": "code",
   "execution_count": 1,
   "metadata": {},
   "outputs": [],
   "source": [
    "import torch\n",
    "\n",
    "import data\n",
    "import utils\n",
    "import info_recorder as ir\n",
    "import data_loader as dl\n",
    "import initializer as init\n",
    "import trainer as tn"
   ]
  },
  {
   "cell_type": "code",
   "execution_count": 2,
   "metadata": {},
   "outputs": [
    {
     "name": "stdout",
     "output_type": "stream",
     "text": [
      "There are 1 GPU(s) available.\n",
      "Device name: NVIDIA GeForce GTX 1070\n"
     ]
    }
   ],
   "source": [
    "if torch.cuda.is_available():       \n",
    "    device = torch.device(\"cuda\")\n",
    "    print(f'There are {torch.cuda.device_count()} GPU(s) available.')\n",
    "    print('Device name:', torch.cuda.get_device_name(0))\n",
    "\n",
    "else:\n",
    "    print('No GPU available, using the CPU instead.')\n",
    "    device = torch.device(\"cpu\")\n"
   ]
  },
  {
   "cell_type": "code",
   "execution_count": 3,
   "metadata": {},
   "outputs": [],
   "source": [
    "df, size_info, size_dict = data.get_df()"
   ]
  },
  {
   "cell_type": "code",
   "execution_count": 4,
   "metadata": {},
   "outputs": [],
   "source": [
    "sourceCode_np = df.sourceCode.values\n",
    "codeClass_np = df.classLabel.values"
   ]
  },
  {
   "cell_type": "code",
   "execution_count": 5,
   "metadata": {},
   "outputs": [
    {
     "name": "stdout",
     "output_type": "stream",
     "text": [
      "Tokenizing...\n",
      "\n"
     ]
    }
   ],
   "source": [
    "# Tokenize, build vocabulary, encode tokens\n",
    "print(\"Tokenizing...\\n\")\n",
    "tokenized_sourceCodes, ch2idx, max_len = utils.tokenize(sourceCode_np)\n",
    "input_ids = utils.encode(tokenized_sourceCodes, ch2idx, max_len)"
   ]
  },
  {
   "cell_type": "code",
   "execution_count": 6,
   "metadata": {},
   "outputs": [],
   "source": [
    "ir.record_ch2idx(ch2idx)"
   ]
  },
  {
   "cell_type": "code",
   "execution_count": 7,
   "metadata": {},
   "outputs": [],
   "source": [
    "encoded_class2idx, class2idx, num_classes = utils.tokenize_encode_class(codeClass_np)"
   ]
  },
  {
   "cell_type": "code",
   "execution_count": 8,
   "metadata": {},
   "outputs": [],
   "source": [
    "from sklearn.model_selection import train_test_split\n",
    "\n",
    "train_inputs, val_inputs, train_labels, val_labels = train_test_split(\n",
    "    input_ids, encoded_class2idx, test_size = 0.2, random_state = 43\n",
    ")"
   ]
  },
  {
   "cell_type": "code",
   "execution_count": 9,
   "metadata": {},
   "outputs": [],
   "source": [
    "# Load data to PyTorch DataLoader\n",
    "train_dataloader, val_dataloader = dl.data_loader(train_inputs, val_inputs, train_labels, val_labels, batch_size=50)"
   ]
  },
  {
   "cell_type": "code",
   "execution_count": 10,
   "metadata": {},
   "outputs": [],
   "source": [
    "# PyTorch TensorBoard support\n",
    "from torch.utils.tensorboard import SummaryWriter\n",
    "from datetime import datetime\n",
    "\n",
    "timestamp = datetime.now().strftime('%Y%m%d_%H%M%S')\n",
    "writer = SummaryWriter('rnn124char/tests')"
   ]
  },
  {
   "cell_type": "code",
   "execution_count": 11,
   "metadata": {},
   "outputs": [
    {
     "name": "stdout",
     "output_type": "stream",
     "text": [
      "Start training...\n",
      "\n",
      " Epoch  |  Train Loss  |  Val Loss  |  Val Acc  |  Elapsed \n",
      "------------------------------------------------------------\n",
      "   1    |   2.730921   |  2.503849  |   22.21   |   24.43  \n",
      "   2    |   2.239495   |  2.005803  |   38.46   |   24.64  \n",
      "   3    |   1.848176   |  1.673680  |   49.33   |   24.78  \n",
      "   4    |   1.493737   |  1.338903  |   60.20   |   24.78  \n",
      "   5    |   1.250419   |  1.150411  |   65.73   |   24.97  \n",
      "   6    |   1.114477   |  1.063708  |   68.70   |   24.84  \n",
      "   7    |   1.020908   |  0.968873  |   71.27   |   24.70  \n",
      "   8    |   0.958348   |  0.936184  |   72.58   |   24.76  \n",
      "   9    |   0.911067   |  0.906889  |   73.22   |   24.60  \n",
      "  10    |   0.874477   |  0.880099  |   73.91   |   24.87  \n",
      "  11    |   0.843929   |  0.854971  |   74.76   |   24.78  \n",
      "  12    |   0.816332   |  0.843822  |   75.13   |   24.68  \n",
      "  13    |   0.794476   |  0.828054  |   75.82   |   24.65  \n",
      "  14    |   0.775141   |  0.810172  |   76.27   |   24.93  \n",
      "  15    |   0.756575   |  0.800013  |   76.55   |   24.98  \n",
      "  16    |   0.740737   |  0.785374  |   76.95   |   24.89  \n",
      "  17    |   0.726344   |  0.782457  |   77.03   |   24.60  \n",
      "  18    |   0.713024   |  0.778675  |   77.28   |   24.78  \n",
      "  19    |   0.700753   |  0.773020  |   77.37   |   24.86  \n",
      "  20    |   0.689487   |  0.770476  |   77.65   |   24.87  \n",
      "\n",
      "\n",
      "Training complete! Best accuracy: 77.65%.\n"
     ]
    }
   ],
   "source": [
    "# CNN-rand: Word vectors are randomly initialized.\n",
    "tn.set_seed(42)\n",
    "cnn_rand, optimizer = init.initilize_model(device=device,\n",
    "                                           vocab_size=len(ch2idx),\n",
    "                                           embed_dim=100,\n",
    "                                           hidden_size=50,\n",
    "                                           num_classes=len(class2idx),\n",
    "                                           n_layers=2,\n",
    "                                           dropout=0.5,\n",
    "                                           learning_rate=0.25,\n",
    "                                           optimizerName=\"Adadelta\",\n",
    "                                           modelType=\"RNN\")\n",
    "                                        \n",
    "tn.train(device, cnn_rand, optimizer, train_dataloader, '01_test1', writer, val_dataloader, epochs=20)"
   ]
  },
  {
   "cell_type": "code",
   "execution_count": 12,
   "metadata": {},
   "outputs": [
    {
     "name": "stdout",
     "output_type": "stream",
     "text": [
      "Start training...\n",
      "\n",
      " Epoch  |  Train Loss  |  Val Loss  |  Val Acc  |  Elapsed \n",
      "------------------------------------------------------------\n",
      "   1    |   2.843421   |  2.582490  |   19.75   |   33.67  \n",
      "   2    |   2.432237   |  2.257529  |   29.61   |   33.92  \n",
      "   3    |   2.174925   |  2.042747  |   37.40   |   34.04  \n",
      "   4    |   1.908771   |  1.766219  |   45.79   |   34.08  \n",
      "   5    |   1.629903   |  1.458067  |   55.61   |   34.36  \n",
      "   6    |   1.365654   |  1.258776  |   62.45   |   34.20  \n",
      "   7    |   1.164778   |  1.071908  |   68.39   |   34.08  \n",
      "   8    |   1.039109   |  1.019801  |   70.00   |   34.12  \n",
      "   9    |   0.959090   |  0.933719  |   72.59   |   34.28  \n",
      "  10    |   0.903277   |  0.896790  |   73.65   |   34.16  \n",
      "  11    |   0.860945   |  0.857170  |   74.78   |   34.13  \n",
      "  12    |   0.826874   |  0.839464  |   75.68   |   34.22  \n",
      "  13    |   0.799564   |  0.833808  |   75.51   |   34.47  \n",
      "  14    |   0.775882   |  0.813425  |   75.99   |   34.22  \n",
      "  15    |   0.754942   |  0.786936  |   76.98   |   34.29  \n",
      "  16    |   0.735022   |  0.790579  |   77.10   |   34.14  \n",
      "  17    |   0.719190   |  0.770953  |   77.53   |   34.22  \n",
      "  18    |   0.704669   |  0.771590  |   77.68   |   34.25  \n",
      "  19    |   0.689968   |  0.754849  |   78.11   |   34.17  \n",
      "  20    |   0.677446   |  0.751918  |   78.26   |   34.19  \n",
      "\n",
      "\n",
      "Training complete! Best accuracy: 78.26%.\n"
     ]
    }
   ],
   "source": [
    "# CNN-rand: Word vectors are randomly initialized.\n",
    "tn.set_seed(42)\n",
    "cnn_rand, optimizer = init.initilize_model(device=device,\n",
    "                                           vocab_size=len(ch2idx),\n",
    "                                           embed_dim=100,\n",
    "                                           hidden_size=50,\n",
    "                                           num_classes=len(class2idx),\n",
    "                                           n_layers=3,\n",
    "                                           dropout=0.5,\n",
    "                                           learning_rate=0.25,\n",
    "                                           optimizerName=\"Adadelta\",\n",
    "                                           modelType=\"RNN\")\n",
    "                                        \n",
    "tn.train(device, cnn_rand, optimizer, train_dataloader, '02_test2', writer, val_dataloader, epochs=20)"
   ]
  },
  {
   "cell_type": "code",
   "execution_count": 13,
   "metadata": {},
   "outputs": [
    {
     "name": "stdout",
     "output_type": "stream",
     "text": [
      "Start training...\n",
      "\n",
      " Epoch  |  Train Loss  |  Val Loss  |  Val Acc  |  Elapsed \n",
      "------------------------------------------------------------\n",
      "   1    |   2.991901   |  2.788659  |   13.86   |   42.68  \n",
      "   2    |   2.628950   |  2.392666  |   25.02   |   43.05  \n",
      "   3    |   2.303975   |  2.232597  |   30.92   |   43.40  \n",
      "   4    |   2.085336   |  1.997028  |   39.29   |   43.53  \n",
      "   5    |   1.871652   |  1.725135  |   47.38   |   43.72  \n",
      "   6    |   1.636855   |  1.504001  |   54.55   |   43.87  \n",
      "   7    |   1.444612   |  1.327927  |   60.32   |   43.48  \n",
      "   8    |   1.259884   |  1.154879  |   66.10   |   43.64  \n",
      "   9    |   1.117096   |  1.035296  |   69.58   |   43.50  \n",
      "  10    |   1.020326   |  0.969382  |   71.31   |   43.92  \n",
      "  11    |   0.952639   |  0.935990  |   72.86   |   43.99  \n",
      "  12    |   0.898908   |  0.885044  |   74.17   |   43.90  \n",
      "  13    |   0.859873   |  0.846507  |   74.93   |   43.70  \n",
      "  14    |   0.827956   |  0.840797  |   75.33   |   43.77  \n",
      "  15    |   0.800852   |  0.832021  |   75.87   |   43.68  \n",
      "  16    |   0.778002   |  0.807293  |   76.44   |   43.61  \n",
      "  17    |   0.756691   |  0.790340  |   77.22   |   43.78  \n",
      "  18    |   0.739197   |  0.795683  |   76.99   |   43.55  \n",
      "  19    |   0.719600   |  0.775395  |   77.59   |   43.61  \n",
      "  20    |   0.708511   |  0.764682  |   77.80   |   43.96  \n",
      "\n",
      "\n",
      "Training complete! Best accuracy: 77.80%.\n"
     ]
    }
   ],
   "source": [
    "# CNN-rand: Word vectors are randomly initialized.\n",
    "tn.set_seed(42)\n",
    "cnn_rand, optimizer = init.initilize_model(device=device,\n",
    "                                           vocab_size=len(ch2idx),\n",
    "                                           embed_dim=100,\n",
    "                                           hidden_size=50,\n",
    "                                           num_classes=len(class2idx),\n",
    "                                           n_layers=4,\n",
    "                                           dropout=0.5,\n",
    "                                           learning_rate=0.25,\n",
    "                                           optimizerName=\"Adadelta\",\n",
    "                                           modelType=\"RNN\")\n",
    "                                        \n",
    "tn.train(device, cnn_rand, optimizer, train_dataloader, '03_test3', writer, val_dataloader, epochs=20)"
   ]
  },
  {
   "cell_type": "code",
   "execution_count": 14,
   "metadata": {},
   "outputs": [
    {
     "name": "stdout",
     "output_type": "stream",
     "text": [
      "Start training...\n",
      "\n",
      " Epoch  |  Train Loss  |  Val Loss  |  Val Acc  |  Elapsed \n",
      "------------------------------------------------------------\n",
      "   1    |   2.664194   |  2.362713  |   26.03   |   69.61  \n",
      "   2    |   2.100706   |  1.884608  |   42.00   |   69.99  \n",
      "   3    |   1.678286   |  1.449050  |   56.15   |   69.97  \n",
      "   4    |   1.313627   |  1.152669  |   65.92   |   69.82  \n",
      "   5    |   1.078557   |  0.986937  |   70.74   |   69.93  \n",
      "   6    |   0.941663   |  0.915712  |   72.87   |   69.93  \n",
      "   7    |   0.856832   |  0.842735  |   75.39   |   69.87  \n",
      "   8    |   0.794432   |  0.820550  |   75.80   |   69.84  \n",
      "   9    |   0.746776   |  0.789277  |   76.72   |   70.03  \n",
      "  10    |   0.708373   |  0.760467  |   77.64   |   69.94  \n",
      "  11    |   0.674547   |  0.739573  |   78.48   |   69.78  \n",
      "  12    |   0.645105   |  0.734952  |   78.40   |   69.99  \n",
      "  13    |   0.619190   |  0.715613  |   79.24   |   69.93  \n",
      "  14    |   0.596978   |  0.718090  |   79.30   |   70.00  \n",
      "  15    |   0.574560   |  0.700982  |   79.82   |   69.94  \n",
      "  16    |   0.555156   |  0.710287  |   79.66   |   69.84  \n",
      "  17    |   0.538664   |  0.707311  |   79.58   |   69.81  \n",
      "  18    |   0.522693   |  0.689212  |   80.44   |   69.97  \n",
      "  19    |   0.508918   |  0.693316  |   80.24   |   69.86  \n",
      "  20    |   0.494285   |  0.689092  |   80.48   |   69.90  \n",
      "\n",
      "\n",
      "Training complete! Best accuracy: 80.48%.\n"
     ]
    }
   ],
   "source": [
    "# CNN-rand: Word vectors are randomly initialized.\n",
    "tn.set_seed(42)\n",
    "cnn_rand, optimizer = init.initilize_model(device=device,\n",
    "                                           vocab_size=len(ch2idx),\n",
    "                                           embed_dim=100,\n",
    "                                           hidden_size=100,\n",
    "                                           num_classes=len(class2idx),\n",
    "                                           n_layers=2,\n",
    "                                           dropout=0.5,\n",
    "                                           learning_rate=0.25,\n",
    "                                           optimizerName=\"Adadelta\",\n",
    "                                           modelType=\"RNN\")\n",
    "                                        \n",
    "tn.train(device, cnn_rand, optimizer, train_dataloader, '04_test4', writer, val_dataloader, epochs=20)"
   ]
  },
  {
   "cell_type": "code",
   "execution_count": 15,
   "metadata": {},
   "outputs": [
    {
     "name": "stdout",
     "output_type": "stream",
     "text": [
      "Start training...\n",
      "\n",
      " Epoch  |  Train Loss  |  Val Loss  |  Val Acc  |  Elapsed \n",
      "------------------------------------------------------------\n",
      "   1    |   2.798207   |  2.444780  |   23.82   |  101.71  \n",
      "   2    |   2.290440   |  2.254048  |   31.60   |  102.41  \n",
      "   3    |   2.038372   |  1.855263  |   42.11   |  102.49  \n",
      "   4    |   1.732166   |  1.544083  |   53.15   |  102.54  \n",
      "   5    |   1.392043   |  1.242708  |   63.00   |  102.51  \n",
      "   6    |   1.123448   |  1.015105  |   70.13   |  102.56  \n",
      "   7    |   0.963892   |  0.920218  |   72.77   |  102.54  \n",
      "   8    |   0.869023   |  0.843860  |   75.14   |  102.52  \n",
      "   9    |   0.799516   |  0.809308  |   76.10   |  102.51  \n",
      "  10    |   0.749964   |  0.781782  |   77.13   |  102.58  \n",
      "  11    |   0.707085   |  0.755400  |   77.70   |  102.49  \n",
      "  12    |   0.669204   |  0.729884  |   78.70   |  102.53  \n",
      "  13    |   0.640186   |  0.714768  |   79.08   |  102.51  \n",
      "  14    |   0.612234   |  0.703977  |   79.31   |  102.50  \n",
      "  15    |   0.587658   |  0.696367  |   79.67   |  102.53  \n",
      "  16    |   0.564408   |  0.686628  |   79.93   |  102.54  \n",
      "  17    |   0.544193   |  0.679181  |   80.34   |  102.55  \n",
      "  18    |   0.523295   |  0.671056  |   80.56   |  102.56  \n",
      "  19    |   0.506258   |  0.663718  |   80.82   |  102.56  \n",
      "  20    |   0.489678   |  0.676688  |   80.72   |  102.55  \n",
      "\n",
      "\n",
      "Training complete! Best accuracy: 80.82%.\n"
     ]
    }
   ],
   "source": [
    "# CNN-rand: Word vectors are randomly initialized.\n",
    "tn.set_seed(42)\n",
    "cnn_rand, optimizer = init.initilize_model(device=device,\n",
    "                                           vocab_size=len(ch2idx),\n",
    "                                           embed_dim=100,\n",
    "                                           hidden_size=100,\n",
    "                                           num_classes=len(class2idx),\n",
    "                                           n_layers=3,\n",
    "                                           dropout=0.5,\n",
    "                                           learning_rate=0.25,\n",
    "                                           optimizerName=\"Adadelta\",\n",
    "                                           modelType=\"RNN\")\n",
    "                                        \n",
    "tn.train(device, cnn_rand, optimizer, train_dataloader, '05_test5', writer, val_dataloader, epochs=20)"
   ]
  },
  {
   "cell_type": "code",
   "execution_count": 16,
   "metadata": {},
   "outputs": [
    {
     "name": "stdout",
     "output_type": "stream",
     "text": [
      "Start training...\n",
      "\n",
      " Epoch  |  Train Loss  |  Val Loss  |  Val Acc  |  Elapsed \n",
      "------------------------------------------------------------\n",
      "   1    |   2.971360   |  2.713250  |   15.07   |  134.38  \n",
      "   2    |   2.477760   |  2.390184  |   26.23   |  135.51  \n",
      "   3    |   2.149523   |  1.968181  |   39.33   |  135.90  \n",
      "   4    |   1.736620   |  1.511146  |   53.01   |  135.94  \n",
      "   5    |   1.352171   |  1.186959  |   64.70   |  135.96  \n",
      "   6    |   1.103340   |  1.016152  |   69.93   |  135.96  \n",
      "   7    |   0.966288   |  0.936134  |   72.37   |  135.97  \n",
      "   8    |   0.877038   |  0.860335  |   74.66   |  135.98  \n",
      "   9    |   0.812605   |  0.838636  |   75.45   |  135.91  \n",
      "  10    |   0.763026   |  0.789155  |   76.92   |  135.97  \n",
      "  11    |   0.720501   |  0.769108  |   77.41   |  135.97  \n",
      "  12    |   0.686484   |  0.752485  |   77.93   |  135.96  \n",
      "  13    |   0.657089   |  0.722284  |   78.85   |  135.93  \n",
      "  14    |   0.629699   |  0.710446  |   79.30   |  135.96  \n",
      "  15    |   0.605109   |  0.703384  |   79.39   |  135.97  \n",
      "  16    |   0.582439   |  0.699773  |   80.00   |  136.00  \n",
      "  17    |   0.562577   |  0.687732  |   80.07   |  135.93  \n",
      "  18    |   0.545976   |  0.670234  |   80.57   |  136.00  \n",
      "  19    |   0.529233   |  0.674789  |   80.61   |  136.01  \n",
      "  20    |   0.512233   |  0.665878  |   80.88   |  135.95  \n",
      "\n",
      "\n",
      "Training complete! Best accuracy: 80.88%.\n"
     ]
    }
   ],
   "source": [
    "# CNN-rand: Word vectors are randomly initialized.\n",
    "tn.set_seed(42)\n",
    "cnn_rand, optimizer = init.initilize_model(device=device,\n",
    "                                           vocab_size=len(ch2idx),\n",
    "                                           embed_dim=100,\n",
    "                                           hidden_size=100,\n",
    "                                           num_classes=len(class2idx),\n",
    "                                           n_layers=4,\n",
    "                                           dropout=0.5,\n",
    "                                           learning_rate=0.25,\n",
    "                                           optimizerName=\"Adadelta\",\n",
    "                                           modelType=\"RNN\")\n",
    "                                        \n",
    "tn.train(device, cnn_rand, optimizer, train_dataloader, '06_test6', writer, val_dataloader, epochs=20)"
   ]
  }
 ],
 "metadata": {
  "kernelspec": {
   "display_name": "Python 3.9.12 ('base')",
   "language": "python",
   "name": "python3"
  },
  "language_info": {
   "codemirror_mode": {
    "name": "ipython",
    "version": 3
   },
   "file_extension": ".py",
   "mimetype": "text/x-python",
   "name": "python",
   "nbconvert_exporter": "python",
   "pygments_lexer": "ipython3",
   "version": "3.9.12"
  },
  "orig_nbformat": 4,
  "vscode": {
   "interpreter": {
    "hash": "348b9cd948ce87438be2e622031b2ecfa29bc2d3ecc0fd03127b9a24b30227df"
   }
  }
 },
 "nbformat": 4,
 "nbformat_minor": 2
}
