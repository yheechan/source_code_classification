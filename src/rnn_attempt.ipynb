{
 "cells": [
  {
   "cell_type": "code",
   "execution_count": 1,
   "metadata": {},
   "outputs": [],
   "source": [
    "import torch\n",
    "import pandas as pd\n",
    "from sklearn import metrics\n",
    "\n",
    "import data\n",
    "import utils\n",
    "import info_recorder as ir\n",
    "import data_loader as dl\n",
    "import initializer as init\n",
    "import trainer as tn\n",
    "import tester as ts"
   ]
  },
  {
   "cell_type": "code",
   "execution_count": 2,
   "metadata": {},
   "outputs": [
    {
     "name": "stdout",
     "output_type": "stream",
     "text": [
      "There are 1 GPU(s) available.\n",
      "Device name: NVIDIA GeForce GTX 1070\n"
     ]
    }
   ],
   "source": [
    "if torch.cuda.is_available():       \n",
    "    device = torch.device(\"cuda\")\n",
    "    print(f'There are {torch.cuda.device_count()} GPU(s) available.')\n",
    "    print('Device name:', torch.cuda.get_device_name(0))\n",
    "\n",
    "else:\n",
    "    print('No GPU available, using the CPU instead.')\n",
    "    device = torch.device(\"cpu\")\n"
   ]
  },
  {
   "cell_type": "code",
   "execution_count": 3,
   "metadata": {},
   "outputs": [],
   "source": [
    "df, size_info, size_dict = data.get_df()"
   ]
  },
  {
   "cell_type": "code",
   "execution_count": 4,
   "metadata": {},
   "outputs": [],
   "source": [
    "sourceCode_np = df.sourceCode.values\n",
    "codeClass_np = df.classLabel.values"
   ]
  },
  {
   "cell_type": "code",
   "execution_count": 5,
   "metadata": {},
   "outputs": [
    {
     "name": "stdout",
     "output_type": "stream",
     "text": [
      "Tokenizing...\n",
      "\n"
     ]
    }
   ],
   "source": [
    "# Tokenize, build vocabulary, encode tokens\n",
    "print(\"Tokenizing...\\n\")\n",
    "tokenized_sourceCodes, ch2idx, max_len = utils.tokenize(sourceCode_np)\n",
    "input_ids = utils.encode(tokenized_sourceCodes, ch2idx, max_len)"
   ]
  },
  {
   "cell_type": "code",
   "execution_count": 6,
   "metadata": {},
   "outputs": [],
   "source": [
    "ir.record_ch2idx(ch2idx)"
   ]
  },
  {
   "cell_type": "code",
   "execution_count": 7,
   "metadata": {},
   "outputs": [],
   "source": [
    "encoded_class2idx, class2idx, num_classes = utils.tokenize_encode_class(codeClass_np)"
   ]
  },
  {
   "cell_type": "code",
   "execution_count": 8,
   "metadata": {},
   "outputs": [],
   "source": [
    "from sklearn.model_selection import train_test_split\n",
    "\n",
    "train_inputs, test_inputs, train_labels, test_labels = train_test_split(\n",
    "    input_ids, encoded_class2idx, test_size = 0.1, random_state = 43\n",
    ")"
   ]
  },
  {
   "cell_type": "code",
   "execution_count": 9,
   "metadata": {},
   "outputs": [],
   "source": [
    "train_inputs, val_inputs, train_labels, val_labels = train_test_split(\n",
    "    train_inputs, train_labels, test_size = 0.1, random_state = 43\n",
    ")"
   ]
  },
  {
   "cell_type": "code",
   "execution_count": 10,
   "metadata": {},
   "outputs": [],
   "source": [
    "# Load data to PyTorch DataLoader\n",
    "train_dataloader, val_dataloader, test_dataloader = dl.data_loader(train_inputs, val_inputs, test_inputs, train_labels, val_labels, test_labels, batch_size=50)"
   ]
  },
  {
   "cell_type": "code",
   "execution_count": 11,
   "metadata": {},
   "outputs": [],
   "source": [
    "# PyTorch TensorBoard support\n",
    "from torch.utils.tensorboard import SummaryWriter\n",
    "from datetime import datetime\n",
    "\n",
    "timestamp = datetime.now().strftime('%Y%m%d_%H%M%S')\n",
    "writer = SummaryWriter('overfitRNN/tests')"
   ]
  },
  {
   "cell_type": "code",
   "execution_count": 12,
   "metadata": {},
   "outputs": [
    {
     "name": "stdout",
     "output_type": "stream",
     "text": [
      "Start training...\n",
      "\n",
      " Epoch  |  Train Loss  |  Val Loss  |  Val Acc  |  Elapsed \n",
      "------------------------------------------------------------\n",
      "   1    |   2.875202   |  2.532537  |   19.51   |  104.85  \n",
      "   2    |   2.360859   |  2.168046  |   31.42   |  105.30  \n",
      "   3    |   1.863051   |  1.506281  |   53.42   |  106.01  \n",
      "   4    |   1.289822   |  1.161392  |   65.64   |  105.27  \n",
      "   5    |   0.998004   |  0.964615  |   71.84   |  105.78  \n",
      "   6    |   0.854869   |  0.836482  |   75.52   |  105.54  \n",
      "   7    |   0.760332   |  0.796348  |   76.57   |  106.12  \n",
      "   8    |   0.687627   |  0.745261  |   78.37   |  105.46  \n",
      "   9    |   0.625972   |  0.736644  |   78.71   |  105.83  \n",
      "  10    |   0.573777   |  0.714541  |   79.46   |  105.69  \n",
      "  11    |   0.527650   |  0.722827  |   79.56   |  106.03  \n",
      "  12    |   0.484513   |  0.690556  |   80.26   |  105.33  \n",
      "  13    |   0.446231   |  0.679794  |   80.84   |  105.83  \n",
      "  14    |   0.410169   |  0.699966  |   80.66   |  105.74  \n",
      "  15    |   0.377796   |  0.710837  |   80.97   |  106.01  \n",
      "  16    |   0.347793   |  0.719018  |   80.99   |  105.40  \n",
      "  17    |   0.320046   |  0.758446  |   80.65   |  105.44  \n",
      "  18    |   0.293866   |  0.762132  |   81.10   |  105.52  \n",
      "  19    |   0.268412   |  0.777475  |   81.31   |  106.11  \n",
      "  20    |   0.246280   |  0.798437  |   81.20   |  105.21  \n",
      "  21    |   0.225762   |  0.821580  |   81.06   |  105.70  \n",
      "  22    |   0.205918   |  0.860308  |   81.40   |  105.91  \n",
      "  23    |   0.187714   |  0.897023  |   80.82   |  106.05  \n",
      "  24    |   0.171261   |  0.918186  |   81.06   |  105.80  \n",
      "  25    |   0.158754   |  0.949862  |   81.29   |  105.72  \n",
      "  26    |   0.143686   |  0.982392  |   81.20   |  105.92  \n",
      "  27    |   0.130643   |  1.044466  |   80.91   |  105.92  \n",
      "  28    |   0.117242   |  1.085945  |   80.60   |  105.67  \n",
      "  29    |   0.112123   |  1.079404  |   81.41   |  105.54  \n",
      "  30    |   0.101904   |  1.142570  |   80.84   |  105.93  \n",
      "  31    |   0.093412   |  1.159837  |   81.24   |  105.89  \n",
      "  32    |   0.085825   |  1.204001  |   81.08   |  105.59  \n",
      "  33    |   0.081331   |  1.219268  |   80.87   |  105.34  \n",
      "  34    |   0.075377   |  1.221345  |   80.88   |  105.85  \n",
      "  35    |   0.070027   |  1.260852  |   81.14   |  105.70  \n",
      "  36    |   0.064785   |  1.316558  |   80.92   |  105.51  \n",
      "  37    |   0.061491   |  1.334765  |   81.22   |  105.30  \n",
      "  38    |   0.059356   |  1.336804  |   81.17   |  105.88  \n",
      "  39    |   0.057395   |  1.366619  |   81.44   |  105.67  \n",
      "  40    |   0.053895   |  1.361377  |   81.23   |  105.79  \n",
      "\n",
      "\n",
      "Training complete! Best accuracy: 81.44%.\n"
     ]
    }
   ],
   "source": [
    "# CNN-rand: Word vectors are randomly initialized.\n",
    "tn.set_seed(42)\n",
    "cnn_rand, optimizer = init.initilize_model(device=device,\n",
    "                                           vocab_size=len(ch2idx),\n",
    "                                           embed_dim=100,\n",
    "                                           hidden_size=100,\n",
    "                                           num_classes=len(class2idx),\n",
    "                                           n_layers=3,\n",
    "                                           dropout=0,\n",
    "                                           learning_rate=0.25,\n",
    "                                           optimizerName=\"Adadelta\",\n",
    "                                           modelType=\"RNN\")\n",
    "                                        \n",
    "tn.train(device, cnn_rand, optimizer, train_dataloader, 'test7', writer, val_dataloader, epochs=40)"
   ]
  },
  {
   "cell_type": "code",
   "execution_count": 13,
   "metadata": {},
   "outputs": [
    {
     "name": "stdout",
     "output_type": "stream",
     "text": [
      "test loss:  1.3971700340154625\n",
      "test acc:  81.05714285714286\n"
     ]
    }
   ],
   "source": [
    "tot_pred, tot_label = ts.test(device, cnn_rand, test_dataloader)\n",
    "\n",
    "results = metrics.classification_report(tot_label.cpu(), tot_pred.cpu(), output_dict=True)\n",
    "results_df = pd.DataFrame.from_dict(results).transpose()\n",
    "results_df.to_excel('../result/07_overfitRNN_test7.xlsx', sheet_name='sheet1')"
   ]
  }
 ],
 "metadata": {
  "kernelspec": {
   "display_name": "Python 3.9.12 ('base')",
   "language": "python",
   "name": "python3"
  },
  "language_info": {
   "codemirror_mode": {
    "name": "ipython",
    "version": 3
   },
   "file_extension": ".py",
   "mimetype": "text/x-python",
   "name": "python",
   "nbconvert_exporter": "python",
   "pygments_lexer": "ipython3",
   "version": "3.9.12"
  },
  "orig_nbformat": 4,
  "vscode": {
   "interpreter": {
    "hash": "348b9cd948ce87438be2e622031b2ecfa29bc2d3ecc0fd03127b9a24b30227df"
   }
  }
 },
 "nbformat": 4,
 "nbformat_minor": 2
}
