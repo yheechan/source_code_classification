{
 "cells": [
  {
   "cell_type": "code",
   "execution_count": 1,
   "metadata": {},
   "outputs": [],
   "source": [
    "import torch\n",
    "\n",
    "import data\n",
    "import utils\n",
    "import info_recorder as ir\n",
    "import data_loader as dl\n",
    "import initializer as init\n",
    "import trainer as tn"
   ]
  },
  {
   "cell_type": "code",
   "execution_count": 2,
   "metadata": {},
   "outputs": [
    {
     "name": "stdout",
     "output_type": "stream",
     "text": [
      "There are 1 GPU(s) available.\n",
      "Device name: NVIDIA GeForce GTX 1070\n"
     ]
    }
   ],
   "source": [
    "if torch.cuda.is_available():       \n",
    "    device = torch.device(\"cuda\")\n",
    "    print(f'There are {torch.cuda.device_count()} GPU(s) available.')\n",
    "    print('Device name:', torch.cuda.get_device_name(0))\n",
    "\n",
    "else:\n",
    "    print('No GPU available, using the CPU instead.')\n",
    "    device = torch.device(\"cpu\")\n"
   ]
  },
  {
   "cell_type": "code",
   "execution_count": 3,
   "metadata": {},
   "outputs": [],
   "source": [
    "df, size_info, size_dict = data.get_df()"
   ]
  },
  {
   "cell_type": "code",
   "execution_count": 4,
   "metadata": {},
   "outputs": [],
   "source": [
    "sourceCode_np = df.sourceCode.values\n",
    "codeClass_np = df.classLabel.values"
   ]
  },
  {
   "cell_type": "code",
   "execution_count": 5,
   "metadata": {},
   "outputs": [
    {
     "name": "stdout",
     "output_type": "stream",
     "text": [
      "Tokenizing...\n",
      "\n"
     ]
    }
   ],
   "source": [
    "# Tokenize, build vocabulary, encode tokens\n",
    "print(\"Tokenizing...\\n\")\n",
    "tokenized_sourceCodes, ch2idx, max_len = utils.tokenize(sourceCode_np)\n",
    "input_ids = utils.encode(tokenized_sourceCodes, ch2idx, max_len)"
   ]
  },
  {
   "cell_type": "code",
   "execution_count": 6,
   "metadata": {},
   "outputs": [],
   "source": [
    "ir.record_ch2idx(ch2idx)"
   ]
  },
  {
   "cell_type": "code",
   "execution_count": 7,
   "metadata": {},
   "outputs": [],
   "source": [
    "encoded_class2idx, class2idx, num_classes = utils.tokenize_encode_class(codeClass_np)"
   ]
  },
  {
   "cell_type": "code",
   "execution_count": 8,
   "metadata": {},
   "outputs": [],
   "source": [
    "from sklearn.model_selection import train_test_split\n",
    "\n",
    "train_inputs, val_inputs, train_labels, val_labels = train_test_split(\n",
    "    input_ids, encoded_class2idx, test_size = 0.2, random_state = 43\n",
    ")"
   ]
  },
  {
   "cell_type": "code",
   "execution_count": 9,
   "metadata": {},
   "outputs": [],
   "source": [
    "# Load data to PyTorch DataLoader\n",
    "train_dataloader, val_dataloader = dl.data_loader(train_inputs, val_inputs, train_labels, val_labels, batch_size=50)"
   ]
  },
  {
   "cell_type": "code",
   "execution_count": 10,
   "metadata": {},
   "outputs": [],
   "source": [
    "# PyTorch TensorBoard support\n",
    "from torch.utils.tensorboard import SummaryWriter\n",
    "from datetime import datetime\n",
    "\n",
    "timestamp = datetime.now().strftime('%Y%m%d_%H%M%S')\n",
    "writer = SummaryWriter('rnnDropout/tests')"
   ]
  },
  {
   "cell_type": "code",
   "execution_count": 11,
   "metadata": {},
   "outputs": [],
   "source": [
    "# # CNN-rand: Word vectors are randomly initialized.\n",
    "# tn.set_seed(42)\n",
    "# cnn_rand, optimizer = init.initilize_model(device=device,\n",
    "#                                            vocab_size=len(ch2idx),\n",
    "#                                            embed_dim=100,\n",
    "#                                            hidden_size=100,\n",
    "#                                            num_classes=len(class2idx),\n",
    "#                                            n_layers=3,\n",
    "#                                            dropout=0.2,\n",
    "#                                            learning_rate=0.25,\n",
    "#                                            optimizerName=\"Adadelta\",\n",
    "#                                            modelType=\"RNN\")\n",
    "                                        \n",
    "# tn.train(device, cnn_rand, optimizer, train_dataloader, '05_test1', writer, val_dataloader, epochs=20)"
   ]
  },
  {
   "cell_type": "code",
   "execution_count": 12,
   "metadata": {},
   "outputs": [],
   "source": [
    "# # CNN-rand: Word vectors are randomly initialized.\n",
    "# tn.set_seed(42)\n",
    "# cnn_rand, optimizer = init.initilize_model(device=device,\n",
    "#                                            vocab_size=len(ch2idx),\n",
    "#                                            embed_dim=100,\n",
    "#                                            hidden_size=100,\n",
    "#                                            num_classes=len(class2idx),\n",
    "#                                            n_layers=3,\n",
    "#                                            dropout=0.4,\n",
    "#                                            learning_rate=0.25,\n",
    "#                                            optimizerName=\"Adadelta\",\n",
    "#                                            modelType=\"RNN\")\n",
    "                                        \n",
    "# tn.train(device, cnn_rand, optimizer, train_dataloader, '05_test2', writer, val_dataloader, epochs=20)"
   ]
  },
  {
   "cell_type": "code",
   "execution_count": 13,
   "metadata": {},
   "outputs": [],
   "source": [
    "# # CNN-rand: Word vectors are randomly initialized.\n",
    "# tn.set_seed(42)\n",
    "# cnn_rand, optimizer = init.initilize_model(device=device,\n",
    "#                                            vocab_size=len(ch2idx),\n",
    "#                                            embed_dim=100,\n",
    "#                                            hidden_size=100,\n",
    "#                                            num_classes=len(class2idx),\n",
    "#                                            n_layers=3,\n",
    "#                                            dropout=0.5,\n",
    "#                                            learning_rate=0.25,\n",
    "#                                            optimizerName=\"Adadelta\",\n",
    "#                                            modelType=\"RNN\")\n",
    "                                        \n",
    "# tn.train(device, cnn_rand, optimizer, train_dataloader, '05_test3', writer, val_dataloader, epochs=20)"
   ]
  },
  {
   "cell_type": "code",
   "execution_count": 14,
   "metadata": {},
   "outputs": [
    {
     "name": "stdout",
     "output_type": "stream",
     "text": [
      "Start training...\n",
      "\n",
      " Epoch  |  Train Loss  |  Val Loss  |  Val Acc  |  Elapsed \n",
      "------------------------------------------------------------\n",
      "   1    |   2.868705   |  2.556974  |   19.16   |  101.09  \n",
      "   2    |   2.375006   |  2.180175  |   31.81   |  102.27  \n",
      "   3    |   2.135508   |  1.922206  |   40.59   |  102.37  \n",
      "   4    |   1.906106   |  1.751261  |   46.26   |  102.41  \n",
      "   5    |   1.718330   |  1.545089  |   53.52   |  102.44  \n",
      "   6    |   1.562286   |  1.403214  |   58.17   |  102.45  \n",
      "   7    |   1.419094   |  1.253615  |   63.24   |  102.43  \n",
      "   8    |   1.284506   |  1.157939  |   66.24   |  102.47  \n",
      "   9    |   1.172933   |  1.087968  |   68.47   |  102.46  \n",
      "  10    |   1.078332   |  0.995820  |   71.13   |  102.43  \n",
      "  11    |   1.002619   |  0.930820  |   73.20   |  102.42  \n",
      "  12    |   0.943884   |  0.947030  |   72.97   |  102.47  \n",
      "  13    |   0.897706   |  0.861017  |   75.00   |  102.40  \n",
      "  14    |   0.858312   |  0.830905  |   76.07   |  102.45  \n",
      "  15    |   0.822813   |  0.822972  |   76.27   |  102.44  \n",
      "  16    |   0.791896   |  0.804737  |   76.72   |  102.42  \n",
      "  17    |   0.765175   |  0.774957  |   77.81   |  102.49  \n",
      "  18    |   0.744234   |  0.779833  |   77.38   |  102.41  \n",
      "  19    |   0.718981   |  0.770618  |   78.16   |  102.46  \n",
      "  20    |   0.699804   |  0.745165  |   78.62   |  102.46  \n",
      "\n",
      "\n",
      "Training complete! Best accuracy: 78.62%.\n"
     ]
    }
   ],
   "source": [
    "# CNN-rand: Word vectors are randomly initialized.\n",
    "tn.set_seed(42)\n",
    "cnn_rand, optimizer = init.initilize_model(device=device,\n",
    "                                           vocab_size=len(ch2idx),\n",
    "                                           embed_dim=100,\n",
    "                                           hidden_size=100,\n",
    "                                           num_classes=len(class2idx),\n",
    "                                           n_layers=3,\n",
    "                                           dropout=0.6,\n",
    "                                           learning_rate=0.25,\n",
    "                                           optimizerName=\"Adadelta\",\n",
    "                                           modelType=\"RNN\")\n",
    "                                        \n",
    "tn.train(device, cnn_rand, optimizer, train_dataloader, '05_test4', writer, val_dataloader, epochs=20)"
   ]
  },
  {
   "cell_type": "code",
   "execution_count": 15,
   "metadata": {},
   "outputs": [
    {
     "name": "stdout",
     "output_type": "stream",
     "text": [
      "Start training...\n",
      "\n",
      " Epoch  |  Train Loss  |  Val Loss  |  Val Acc  |  Elapsed \n",
      "------------------------------------------------------------\n",
      "   1    |   2.956503   |  2.720240  |   14.93   |  101.54  \n",
      "   2    |   2.602651   |  2.396043  |   25.21   |  102.20  \n",
      "   3    |   2.343279   |  2.247315  |   29.80   |  102.30  \n",
      "   4    |   2.197451   |  1.999378  |   38.19   |  102.35  \n",
      "   5    |   2.057893   |  1.875390  |   41.88   |  102.34  \n",
      "   6    |   1.912420   |  1.729005  |   47.01   |  102.37  \n",
      "   7    |   1.766952   |  1.553942  |   52.36   |  102.31  \n",
      "   8    |   1.632930   |  1.413228  |   58.00   |  102.31  \n",
      "   9    |   1.515231   |  1.361403  |   60.35   |  102.36  \n",
      "  10    |   1.419730   |  1.235845  |   63.54   |  102.30  \n",
      "  11    |   1.326418   |  1.149700  |   66.76   |  102.38  \n",
      "  12    |   1.245950   |  1.090337  |   68.86   |  102.36  \n",
      "  13    |   1.182854   |  1.046332  |   69.94   |  102.33  \n",
      "  14    |   1.126985   |  1.003518  |   71.43   |  102.36  \n",
      "  15    |   1.082748   |  0.976745  |   72.06   |  102.33  \n",
      "  16    |   1.044446   |  0.941816  |   73.34   |  102.36  \n",
      "  17    |   1.005824   |  0.925983  |   73.83   |  102.40  \n",
      "  18    |   0.975088   |  0.918294  |   74.17   |  102.34  \n",
      "  19    |   0.950158   |  0.901656  |   74.43   |  102.35  \n",
      "  20    |   0.927942   |  0.877074  |   75.06   |  102.36  \n",
      "\n",
      "\n",
      "Training complete! Best accuracy: 75.06%.\n"
     ]
    }
   ],
   "source": [
    "# CNN-rand: Word vectors are randomly initialized.\n",
    "tn.set_seed(42)\n",
    "cnn_rand, optimizer = init.initilize_model(device=device,\n",
    "                                           vocab_size=len(ch2idx),\n",
    "                                           embed_dim=100,\n",
    "                                           hidden_size=100,\n",
    "                                           num_classes=len(class2idx),\n",
    "                                           n_layers=3,\n",
    "                                           dropout=0.8,\n",
    "                                           learning_rate=0.25,\n",
    "                                           optimizerName=\"Adadelta\",\n",
    "                                           modelType=\"RNN\")\n",
    "                                        \n",
    "tn.train(device, cnn_rand, optimizer, train_dataloader, '05_test5', writer, val_dataloader, epochs=20)"
   ]
  }
 ],
 "metadata": {
  "kernelspec": {
   "display_name": "Python 3.9.12 ('base')",
   "language": "python",
   "name": "python3"
  },
  "language_info": {
   "codemirror_mode": {
    "name": "ipython",
    "version": 3
   },
   "file_extension": ".py",
   "mimetype": "text/x-python",
   "name": "python",
   "nbconvert_exporter": "python",
   "pygments_lexer": "ipython3",
   "version": "3.9.12"
  },
  "orig_nbformat": 4,
  "vscode": {
   "interpreter": {
    "hash": "348b9cd948ce87438be2e622031b2ecfa29bc2d3ecc0fd03127b9a24b30227df"
   }
  }
 },
 "nbformat": 4,
 "nbformat_minor": 2
}
