{
 "cells": [
  {
   "cell_type": "code",
   "execution_count": 1,
   "metadata": {},
   "outputs": [],
   "source": [
    "import torch\n",
    "import pandas as pd\n",
    "from sklearn import metrics\n",
    "import numpy as np\n",
    "\n",
    "import data\n",
    "import utils\n",
    "import info_recorder as ir\n",
    "import data_loader as dl\n",
    "import initializer as init\n",
    "import trainer as tn\n",
    "import tester as ts"
   ]
  },
  {
   "cell_type": "code",
   "execution_count": 2,
   "metadata": {},
   "outputs": [
    {
     "name": "stdout",
     "output_type": "stream",
     "text": [
      "There are 1 GPU(s) available.\n",
      "Device name: NVIDIA GeForce GTX 1070\n"
     ]
    }
   ],
   "source": [
    "if torch.cuda.is_available():       \n",
    "    device = torch.device(\"cuda\")\n",
    "    print(f'There are {torch.cuda.device_count()} GPU(s) available.')\n",
    "    print('Device name:', torch.cuda.get_device_name(0))\n",
    "\n",
    "else:\n",
    "    print('No GPU available, using the CPU instead.')\n",
    "    device = torch.device(\"cpu\")\n"
   ]
  },
  {
   "cell_type": "code",
   "execution_count": 3,
   "metadata": {},
   "outputs": [],
   "source": [
    "df, size_info, size_dict = data.get_df()"
   ]
  },
  {
   "cell_type": "code",
   "execution_count": 4,
   "metadata": {},
   "outputs": [],
   "source": [
    "sourceCode_np = df.sourceCode.values\n",
    "codeClass_np = df.classLabel.values"
   ]
  },
  {
   "cell_type": "code",
   "execution_count": 5,
   "metadata": {},
   "outputs": [],
   "source": [
    "import gensim\n",
    "word2vec_model = gensim.models.KeyedVectors.load_word2vec_format('../model/GoogleNews-vectors-negative300.bin', binary=True)"
   ]
  },
  {
   "cell_type": "code",
   "execution_count": 6,
   "metadata": {},
   "outputs": [
    {
     "name": "stdout",
     "output_type": "stream",
     "text": [
      "Tokenizing...\n",
      "\n"
     ]
    }
   ],
   "source": [
    "# Tokenize, build vocabulary, encode tokens\n",
    "print(\"Tokenizing...\\n\")\n",
    "tokenized_sourceCodes, ch2idx, max_len = utils.tokenize(sourceCode_np)\n",
    "input_ids = utils.encode(tokenized_sourceCodes, ch2idx, max_len)"
   ]
  },
  {
   "cell_type": "code",
   "execution_count": 7,
   "metadata": {},
   "outputs": [],
   "source": [
    "word_list = list(ch2idx.keys())\n",
    "ch_list = list(ch2idx.values())"
   ]
  },
  {
   "cell_type": "code",
   "execution_count": 8,
   "metadata": {},
   "outputs": [],
   "source": [
    "def load_pretrained_vectors():\n",
    "    embeddings = np.random.uniform(-0.25, 0.25, (len(ch2idx), 300))\n",
    "    embeddings[ch2idx['<pad>']] = np.zeros((300,))\n",
    "\n",
    "    word_list = list(ch2idx.keys())\n",
    "    id_list = list(ch2idx.values())\n",
    "\n",
    "    # Load pretrained vectors\n",
    "    count = 0\n",
    "    for i in range(len(ch2idx)):\n",
    "        word_position = id_list.index(i)\n",
    "        word = word_list[word_position]\n",
    "\n",
    "        if word in word2vec_model:\n",
    "            count += 1\n",
    "            embeddings[ch2idx[word]] = word2vec_model[word]\n",
    "\n",
    "    print(f\"There are {count} / {len(ch2idx)} pretrained vectors found.\")\n",
    "\n",
    "    return embeddings"
   ]
  },
  {
   "cell_type": "code",
   "execution_count": 9,
   "metadata": {},
   "outputs": [
    {
     "name": "stdout",
     "output_type": "stream",
     "text": [
      "There are 74 / 97 pretrained vectors found.\n"
     ]
    }
   ],
   "source": [
    "# Load pretrained vectors\n",
    "embeddings = load_pretrained_vectors()\n",
    "embeddings = torch.tensor(embeddings)"
   ]
  },
  {
   "cell_type": "code",
   "execution_count": 10,
   "metadata": {},
   "outputs": [
    {
     "data": {
      "text/plain": [
       "torch.Size([97, 300])"
      ]
     },
     "execution_count": 10,
     "metadata": {},
     "output_type": "execute_result"
    }
   ],
   "source": [
    "embeddings.shape"
   ]
  },
  {
   "cell_type": "code",
   "execution_count": 11,
   "metadata": {},
   "outputs": [],
   "source": [
    "ir.record_ch2idx(ch2idx)"
   ]
  },
  {
   "cell_type": "code",
   "execution_count": 12,
   "metadata": {},
   "outputs": [],
   "source": [
    "encoded_class2idx, class2idx, num_classes = utils.tokenize_encode_class(codeClass_np)"
   ]
  },
  {
   "cell_type": "code",
   "execution_count": 13,
   "metadata": {},
   "outputs": [],
   "source": [
    "from sklearn.model_selection import train_test_split\n",
    "\n",
    "train_inputs, test_inputs, train_labels, test_labels = train_test_split(\n",
    "    input_ids, encoded_class2idx, test_size = 0.1, random_state = 43\n",
    ")"
   ]
  },
  {
   "cell_type": "code",
   "execution_count": 14,
   "metadata": {},
   "outputs": [],
   "source": [
    "train_inputs, val_inputs, train_labels, val_labels = train_test_split(\n",
    "    train_inputs, train_labels, test_size = 0.1, random_state = 43\n",
    ")"
   ]
  },
  {
   "cell_type": "code",
   "execution_count": 15,
   "metadata": {},
   "outputs": [],
   "source": [
    "# Load data to PyTorch DataLoader\n",
    "train_dataloader, val_dataloader, test_dataloader = dl.data_loader(train_inputs, val_inputs, test_inputs, train_labels, val_labels, test_labels, batch_size=50)"
   ]
  },
  {
   "cell_type": "code",
   "execution_count": 16,
   "metadata": {},
   "outputs": [
    {
     "name": "stdout",
     "output_type": "stream",
     "text": [
      "torch.cuda.LongTensor\n"
     ]
    }
   ],
   "source": [
    "for step, batch in enumerate(train_dataloader):\n",
    "             # Load batch to GPU\n",
    "            b_input_ids, b_labels = tuple(t.to(device) for t in batch)\n",
    "\n",
    "            print(b_input_ids.type())\n",
    "            break"
   ]
  },
  {
   "cell_type": "code",
   "execution_count": 17,
   "metadata": {},
   "outputs": [
    {
     "name": "stdout",
     "output_type": "stream",
     "text": [
      "torch.Size([50, 124])\n"
     ]
    }
   ],
   "source": [
    "for step, batch in enumerate(train_dataloader):\n",
    "    b_input_ids, b_labels = tuple(t.to(device) for t in batch)\n",
    "    print(b_input_ids.shape)\n",
    "    break"
   ]
  },
  {
   "cell_type": "code",
   "execution_count": 18,
   "metadata": {},
   "outputs": [],
   "source": [
    "# PyTorch TensorBoard support\n",
    "from torch.utils.tensorboard import SummaryWriter\n",
    "from datetime import datetime\n",
    "\n",
    "timestamp = datetime.now().strftime('%Y%m%d_%H%M%S')\n",
    "writer = SummaryWriter('overfitRNN/tests')"
   ]
  },
  {
   "cell_type": "code",
   "execution_count": 19,
   "metadata": {},
   "outputs": [
    {
     "name": "stdout",
     "output_type": "stream",
     "text": [
      "doing without pretrained model!!!\n",
      "RNNClassifier(\n",
      "  (emb): Embedding(97, 100)\n",
      "  (rnn): LSTM(100, 100, num_layers=3, batch_first=True, dropout=0.2, bidirectional=True)\n",
      "  (fc1): Linear(in_features=200, out_features=300, bias=True)\n",
      "  (fc4): Linear(in_features=300, out_features=21, bias=True)\n",
      "  (dropout): Dropout(p=0.2, inplace=False)\n",
      ")\n",
      "Start training...\n",
      "\n",
      " Epoch  |  Train Loss  |  Val Loss  |  Val Acc  |  Elapsed \n",
      "------------------------------------------------------------\n",
      "   1    |   3.044270   |  3.043047  |   5.89    |  103.32  \n",
      "   2    |   3.035444   |  3.002513  |   8.08    |  103.00  \n",
      "   3    |   2.920043   |  2.849290  |   11.67   |  103.72  \n",
      "   4    |   2.924457   |  3.057142  |   4.65    |  104.26  \n",
      "   5    |   2.954536   |  2.777857  |   12.10   |  104.87  \n",
      "   6    |   2.637661   |  2.394476  |   23.62   |  104.61  \n",
      "   7    |   2.544741   |  2.374283  |   24.98   |  104.72  \n",
      "   8    |   2.258255   |  2.056419  |   34.97   |  104.56  \n",
      "   9    |   1.968518   |  1.779808  |   44.22   |  105.93  \n",
      "  10    |   1.750445   |  1.604066  |   50.11   |  105.39  \n",
      "  11    |   1.566417   |  1.458401  |   55.36   |  105.14  \n",
      "  12    |   1.429928   |  1.330550  |   59.75   |  105.27  \n",
      "  13    |   1.323901   |  1.236707  |   62.92   |  105.63  \n",
      "  14    |   1.239415   |  1.212943  |   63.92   |  104.50  \n",
      "  15    |   1.171249   |  1.112127  |   67.31   |  104.65  \n",
      "  16    |   1.108663   |  1.052755  |   68.84   |  104.70  \n",
      "  17    |   1.056725   |  1.018776  |   70.06   |  104.69  \n",
      "  18    |   1.012423   |  0.974338  |   71.46   |  104.40  \n",
      "  19    |   0.971140   |  0.957291  |   72.11   |  104.65  \n",
      "  20    |   0.933969   |  0.944902  |   72.40   |  104.69  \n",
      "  21    |   0.904209   |  0.897702  |   73.81   |  105.09  \n",
      "  22    |   0.875669   |  0.889034  |   74.00   |  104.26  \n",
      "  23    |   0.850375   |  0.867932  |   74.67   |  104.70  \n",
      "  24    |   0.828534   |  0.863317  |   74.63   |  105.27  \n",
      "  25    |   0.805099   |  0.853781  |   74.99   |  106.96  \n",
      "  26    |   0.785164   |  0.820455  |   76.25   |  105.88  \n",
      "  27    |   0.765975   |  0.831381  |   76.21   |  105.82  \n",
      "  28    |   0.752997   |  0.802539  |   76.59   |  105.48  \n",
      "  29    |   0.733802   |  0.817451  |   76.44   |  105.55  \n",
      "  30    |   0.718549   |  0.780526  |   77.39   |  105.76  \n",
      "  31    |   0.702198   |  0.778545  |   77.63   |  105.48  \n",
      "  32    |   0.688023   |  0.776831  |   77.56   |  105.11  \n",
      "  33    |   0.677082   |  0.773697  |   77.40   |  104.84  \n",
      "  34    |   0.663787   |  0.761535  |   78.35   |  105.14  \n",
      "  35    |   0.653275   |  0.771143  |   78.00   |  105.30  \n",
      "  36    |   0.642874   |  0.768330  |   77.99   |  104.46  \n",
      "  37    |   0.628721   |  0.742093  |   78.68   |  104.68  \n",
      "  38    |   0.618384   |  0.742827  |   78.97   |  104.71  \n",
      "  39    |   0.610003   |  0.746310  |   78.76   |  103.96  \n",
      "  40    |   0.600892   |  0.734343  |   78.99   |  104.37  \n",
      "\n",
      "\n",
      "Training complete! Best accuracy: 78.99%.\n"
     ]
    }
   ],
   "source": [
    "# CNN-rand: Word vectors are randomly initialized.\n",
    "tn.set_seed(42)\n",
    "cnn_rand, optimizer = init.initilize_model(pretrained_embedding=None,\n",
    "                                           device=device,\n",
    "                                           vocab_size=len(ch2idx),\n",
    "                                           embed_dim=100,\n",
    "                                           hidden_size=100,\n",
    "                                           num_classes=len(class2idx),\n",
    "                                           n_layers=3,\n",
    "                                           dropout=0.2,\n",
    "                                           learning_rate=0.01,\n",
    "                                           optimizerName=\"Adam\",\n",
    "                                           modelType=\"RNN\")\n",
    "\n",
    "print(cnn_rand)\n",
    "\n",
    "tn.train(device, cnn_rand, optimizer, train_dataloader, 'test46', writer, val_dataloader, epochs=40)"
   ]
  },
  {
   "cell_type": "code",
   "execution_count": 20,
   "metadata": {},
   "outputs": [
    {
     "name": "stdout",
     "output_type": "stream",
     "text": [
      "test loss:  0.7465288404907499\n",
      "test acc:  78.69047619047619\n"
     ]
    }
   ],
   "source": [
    "tot_pred, tot_label = ts.test(device, cnn_rand, test_dataloader)\n",
    "\n",
    "results = metrics.classification_report(tot_label.cpu(), tot_pred.cpu(), output_dict=True)\n",
    "results_df = pd.DataFrame.from_dict(results).transpose()\n",
    "results_df.to_excel('../result/46_overfitRNN_test46.xlsx', sheet_name='sheet1')"
   ]
  }
 ],
 "metadata": {
  "kernelspec": {
   "display_name": "Python 3.9.12 ('base')",
   "language": "python",
   "name": "python3"
  },
  "language_info": {
   "codemirror_mode": {
    "name": "ipython",
    "version": 3
   },
   "file_extension": ".py",
   "mimetype": "text/x-python",
   "name": "python",
   "nbconvert_exporter": "python",
   "pygments_lexer": "ipython3",
   "version": "3.9.12"
  },
  "orig_nbformat": 4,
  "vscode": {
   "interpreter": {
    "hash": "348b9cd948ce87438be2e622031b2ecfa29bc2d3ecc0fd03127b9a24b30227df"
   }
  }
 },
 "nbformat": 4,
 "nbformat_minor": 2
}
