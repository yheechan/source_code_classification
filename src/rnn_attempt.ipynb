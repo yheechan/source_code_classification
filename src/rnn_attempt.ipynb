{
 "cells": [
  {
   "cell_type": "code",
   "execution_count": 1,
   "metadata": {},
   "outputs": [],
   "source": [
    "import torch\n",
    "\n",
    "import data\n",
    "import utils\n",
    "import info_recorder as ir\n",
    "import data_loader as dl\n",
    "import initializer as init\n",
    "import trainer as tn"
   ]
  },
  {
   "cell_type": "code",
   "execution_count": 2,
   "metadata": {},
   "outputs": [
    {
     "name": "stdout",
     "output_type": "stream",
     "text": [
      "There are 1 GPU(s) available.\n",
      "Device name: NVIDIA GeForce GTX 1070\n"
     ]
    }
   ],
   "source": [
    "if torch.cuda.is_available():       \n",
    "    device = torch.device(\"cuda\")\n",
    "    print(f'There are {torch.cuda.device_count()} GPU(s) available.')\n",
    "    print('Device name:', torch.cuda.get_device_name(0))\n",
    "\n",
    "else:\n",
    "    print('No GPU available, using the CPU instead.')\n",
    "    device = torch.device(\"cpu\")\n"
   ]
  },
  {
   "cell_type": "code",
   "execution_count": 3,
   "metadata": {},
   "outputs": [],
   "source": [
    "df, size_info, size_dict = data.get_df()"
   ]
  },
  {
   "cell_type": "code",
   "execution_count": 4,
   "metadata": {},
   "outputs": [],
   "source": [
    "sourceCode_np = df.sourceCode.values\n",
    "codeClass_np = df.classLabel.values"
   ]
  },
  {
   "cell_type": "code",
   "execution_count": 5,
   "metadata": {},
   "outputs": [
    {
     "name": "stdout",
     "output_type": "stream",
     "text": [
      "Tokenizing...\n",
      "\n"
     ]
    }
   ],
   "source": [
    "# Tokenize, build vocabulary, encode tokens\n",
    "print(\"Tokenizing...\\n\")\n",
    "tokenized_sourceCodes, ch2idx, max_len = utils.tokenize(sourceCode_np)\n",
    "input_ids = utils.encode(tokenized_sourceCodes, ch2idx, max_len)"
   ]
  },
  {
   "cell_type": "code",
   "execution_count": 6,
   "metadata": {},
   "outputs": [],
   "source": [
    "ir.record_ch2idx(ch2idx)"
   ]
  },
  {
   "cell_type": "code",
   "execution_count": 7,
   "metadata": {},
   "outputs": [],
   "source": [
    "encoded_class2idx, class2idx, num_classes = utils.tokenize_encode_class(codeClass_np)"
   ]
  },
  {
   "cell_type": "code",
   "execution_count": 8,
   "metadata": {},
   "outputs": [],
   "source": [
    "from sklearn.model_selection import train_test_split\n",
    "\n",
    "train_inputs, val_inputs, train_labels, val_labels = train_test_split(\n",
    "    input_ids, encoded_class2idx, test_size = 0.2, random_state = 43\n",
    ")"
   ]
  },
  {
   "cell_type": "code",
   "execution_count": 9,
   "metadata": {},
   "outputs": [],
   "source": [
    "# Load data to PyTorch DataLoader\n",
    "train_dataloader, val_dataloader = dl.data_loader(train_inputs, val_inputs, train_labels, val_labels, batch_size=50)"
   ]
  },
  {
   "cell_type": "code",
   "execution_count": 10,
   "metadata": {},
   "outputs": [],
   "source": [
    "# PyTorch TensorBoard support\n",
    "from torch.utils.tensorboard import SummaryWriter\n",
    "from datetime import datetime\n",
    "\n",
    "timestamp = datetime.now().strftime('%Y%m%d_%H%M%S')\n",
    "writer = SummaryWriter('rnn256char/tests')"
   ]
  },
  {
   "cell_type": "code",
   "execution_count": 11,
   "metadata": {},
   "outputs": [
    {
     "name": "stdout",
     "output_type": "stream",
     "text": [
      "Start training...\n",
      "\n",
      " Epoch  |  Train Loss  |  Val Loss  |  Val Acc  |  Elapsed \n",
      "------------------------------------------------------------\n",
      "   1    |   2.807893   |  2.645428  |   18.97   |  186.63  \n",
      "   2    |   2.353638   |  2.225731  |   30.84   |  188.70  \n",
      "   3    |   2.027780   |  1.772656  |   44.81   |  188.93  \n",
      "   4    |   1.556977   |  1.320040  |   60.31   |  188.96  \n",
      "   5    |   1.114545   |  0.956324  |   72.48   |  188.98  \n",
      "   6    |   0.867155   |  0.817077  |   76.33   |  188.97  \n",
      "   7    |   0.737082   |  0.737780  |   78.45   |  188.94  \n",
      "   8    |   0.652884   |  0.664833  |   80.81   |  189.01  \n",
      "   9    |   0.587133   |  0.623439  |   81.85   |  189.01  \n",
      "  10    |   0.536878   |  0.609780  |   82.23   |  188.99  \n",
      "  11    |   0.495430   |  0.582661  |   83.32   |  188.98  \n",
      "  12    |   0.460122   |  0.576914  |   83.39   |  188.98  \n",
      "  13    |   0.429441   |  0.565946  |   83.81   |  188.99  \n",
      "  14    |   0.399769   |  0.568472  |   83.84   |  189.04  \n",
      "  15    |   0.374020   |  0.582312  |   83.77   |  189.04  \n",
      "  16    |   0.348450   |  0.574751  |   84.07   |  189.04  \n",
      "  17    |   0.325438   |  0.580634  |   84.20   |  189.00  \n",
      "  18    |   0.302818   |  0.572716  |   84.57   |  189.06  \n",
      "  19    |   0.282078   |  0.588588  |   84.34   |  189.01  \n",
      "  20    |   0.264189   |  0.608748  |   84.39   |  189.05  \n",
      "\n",
      "\n",
      "Training complete! Best accuracy: 84.57%.\n"
     ]
    }
   ],
   "source": [
    "# CNN-rand: Word vectors are randomly initialized.\n",
    "tn.set_seed(42)\n",
    "cnn_rand, optimizer = init.initilize_model(device=device,\n",
    "                                           vocab_size=len(ch2idx),\n",
    "                                           embed_dim=100,\n",
    "                                           hidden_size=100,\n",
    "                                           num_classes=len(class2idx),\n",
    "                                           n_layers=3,\n",
    "                                           dropout=0.0,\n",
    "                                           learning_rate=0.25,\n",
    "                                           optimizerName=\"Adadelta\",\n",
    "                                           modelType=\"RNN\")\n",
    "                                        \n",
    "tn.train(device, cnn_rand, optimizer, train_dataloader, 'DP_test1', writer, val_dataloader, epochs=20)"
   ]
  },
  {
   "cell_type": "code",
   "execution_count": 12,
   "metadata": {},
   "outputs": [
    {
     "name": "stdout",
     "output_type": "stream",
     "text": [
      "Start training...\n",
      "\n",
      " Epoch  |  Train Loss  |  Val Loss  |  Val Acc  |  Elapsed \n",
      "------------------------------------------------------------\n",
      "   1    |   2.836307   |  2.541316  |   20.66   |  193.52  \n",
      "   2    |   2.416505   |  2.238413  |   30.87   |  194.85  \n",
      "   3    |   2.141685   |  1.980672  |   37.82   |  195.13  \n",
      "   4    |   1.800566   |  1.565983  |   51.24   |  195.14  \n",
      "   5    |   1.424599   |  1.206122  |   64.40   |  195.17  \n",
      "   6    |   1.102148   |  0.949354  |   72.39   |  195.16  \n",
      "   7    |   0.900007   |  0.809557  |   76.76   |  195.17  \n",
      "   8    |   0.780842   |  0.732761  |   78.76   |  195.16  \n",
      "   9    |   0.702952   |  0.676676  |   80.31   |  195.16  \n",
      "  10    |   0.645045   |  0.641828  |   81.48   |  195.17  \n",
      "  11    |   0.597486   |  0.619581  |   82.09   |  195.15  \n",
      "  12    |   0.562586   |  0.603063  |   82.55   |  195.12  \n",
      "  13    |   0.531856   |  0.581834  |   83.31   |  195.13  \n",
      "  14    |   0.505095   |  0.570875  |   83.45   |  195.10  \n",
      "  15    |   0.481715   |  0.572238  |   83.58   |  195.10  \n",
      "  16    |   0.460062   |  0.567738  |   83.94   |  195.10  \n",
      "  17    |   0.441875   |  0.565152  |   84.22   |  195.08  \n",
      "  18    |   0.426810   |  0.545136  |   84.53   |  195.10  \n",
      "  19    |   0.409010   |  0.548684  |   84.70   |  195.12  \n",
      "  20    |   0.394587   |  0.545223  |   84.64   |  195.08  \n",
      "\n",
      "\n",
      "Training complete! Best accuracy: 84.70%.\n"
     ]
    }
   ],
   "source": [
    "# CNN-rand: Word vectors are randomly initialized.\n",
    "tn.set_seed(42)\n",
    "cnn_rand, optimizer = init.initilize_model(device=device,\n",
    "                                           vocab_size=len(ch2idx),\n",
    "                                           embed_dim=100,\n",
    "                                           hidden_size=100,\n",
    "                                           num_classes=len(class2idx),\n",
    "                                           n_layers=3,\n",
    "                                           dropout=0.2,\n",
    "                                           learning_rate=0.25,\n",
    "                                           optimizerName=\"Adadelta\",\n",
    "                                           modelType=\"RNN\")\n",
    "                                        \n",
    "tn.train(device, cnn_rand, optimizer, train_dataloader, 'DP_test2', writer, val_dataloader, epochs=20)"
   ]
  }
 ],
 "metadata": {
  "kernelspec": {
   "display_name": "Python 3.9.12 ('base')",
   "language": "python",
   "name": "python3"
  },
  "language_info": {
   "codemirror_mode": {
    "name": "ipython",
    "version": 3
   },
   "file_extension": ".py",
   "mimetype": "text/x-python",
   "name": "python",
   "nbconvert_exporter": "python",
   "pygments_lexer": "ipython3",
   "version": "3.9.12"
  },
  "orig_nbformat": 4,
  "vscode": {
   "interpreter": {
    "hash": "348b9cd948ce87438be2e622031b2ecfa29bc2d3ecc0fd03127b9a24b30227df"
   }
  }
 },
 "nbformat": 4,
 "nbformat_minor": 2
}
