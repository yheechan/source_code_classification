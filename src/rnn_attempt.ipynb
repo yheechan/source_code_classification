{
 "cells": [
  {
   "cell_type": "code",
   "execution_count": 1,
   "metadata": {},
   "outputs": [],
   "source": [
    "import torch\n",
    "\n",
    "import data\n",
    "import utils\n",
    "import info_recorder as ir\n",
    "import data_loader as dl\n",
    "import initializer as init\n",
    "import trainer as tn"
   ]
  },
  {
   "cell_type": "code",
   "execution_count": 2,
   "metadata": {},
   "outputs": [
    {
     "name": "stdout",
     "output_type": "stream",
     "text": [
      "There are 1 GPU(s) available.\n",
      "Device name: NVIDIA GeForce GTX 1070\n"
     ]
    }
   ],
   "source": [
    "if torch.cuda.is_available():       \n",
    "    device = torch.device(\"cuda\")\n",
    "    print(f'There are {torch.cuda.device_count()} GPU(s) available.')\n",
    "    print('Device name:', torch.cuda.get_device_name(0))\n",
    "\n",
    "else:\n",
    "    print('No GPU available, using the CPU instead.')\n",
    "    device = torch.device(\"cpu\")\n"
   ]
  },
  {
   "cell_type": "code",
   "execution_count": 3,
   "metadata": {},
   "outputs": [],
   "source": [
    "df, size_info, size_dict = data.get_df()"
   ]
  },
  {
   "cell_type": "code",
   "execution_count": 4,
   "metadata": {},
   "outputs": [],
   "source": [
    "sourceCode_np = df.sourceCode.values\n",
    "codeClass_np = df.classLabel.values"
   ]
  },
  {
   "cell_type": "code",
   "execution_count": 5,
   "metadata": {},
   "outputs": [
    {
     "name": "stdout",
     "output_type": "stream",
     "text": [
      "Tokenizing...\n",
      "\n"
     ]
    }
   ],
   "source": [
    "# Tokenize, build vocabulary, encode tokens\n",
    "print(\"Tokenizing...\\n\")\n",
    "tokenized_sourceCodes, ch2idx, max_len = utils.tokenize(sourceCode_np)\n",
    "input_ids = utils.encode(tokenized_sourceCodes, ch2idx, max_len)"
   ]
  },
  {
   "cell_type": "code",
   "execution_count": 6,
   "metadata": {},
   "outputs": [],
   "source": [
    "ir.record_ch2idx(ch2idx)"
   ]
  },
  {
   "cell_type": "code",
   "execution_count": 7,
   "metadata": {},
   "outputs": [],
   "source": [
    "encoded_class2idx, class2idx, num_classes = utils.tokenize_encode_class(codeClass_np)"
   ]
  },
  {
   "cell_type": "code",
   "execution_count": 8,
   "metadata": {},
   "outputs": [],
   "source": [
    "from sklearn.model_selection import train_test_split\n",
    "\n",
    "train_inputs, val_inputs, train_labels, val_labels = train_test_split(\n",
    "    input_ids, encoded_class2idx, test_size = 0.2, random_state = 43\n",
    ")"
   ]
  },
  {
   "cell_type": "code",
   "execution_count": 9,
   "metadata": {},
   "outputs": [],
   "source": [
    "# Load data to PyTorch DataLoader\n",
    "train_dataloader, val_dataloader = dl.data_loader(train_inputs, val_inputs, train_labels, val_labels, batch_size=50)"
   ]
  },
  {
   "cell_type": "code",
   "execution_count": 10,
   "metadata": {},
   "outputs": [],
   "source": [
    "# PyTorch TensorBoard support\n",
    "from torch.utils.tensorboard import SummaryWriter\n",
    "from datetime import datetime\n",
    "\n",
    "timestamp = datetime.now().strftime('%Y%m%d_%H%M%S')\n",
    "writer = SummaryWriter('rnn/test1')"
   ]
  },
  {
   "cell_type": "code",
   "execution_count": 12,
   "metadata": {},
   "outputs": [
    {
     "name": "stdout",
     "output_type": "stream",
     "text": [
      "Start training...\n",
      "\n",
      " Epoch  |  Train Loss  |  Val Loss  |  Val Acc  |  Elapsed \n",
      "------------------------------------------------------------\n"
     ]
    },
    {
     "ename": "KeyboardInterrupt",
     "evalue": "",
     "output_type": "error",
     "traceback": [
      "\u001b[0;31m---------------------------------------------------------------------------\u001b[0m",
      "\u001b[0;31mKeyboardInterrupt\u001b[0m                         Traceback (most recent call last)",
      "\u001b[1;32m/home/arise/auto_debug_capstone/source_code_classification/src/rnn_attempt.ipynb Cell 11\u001b[0m in \u001b[0;36m<cell line: 14>\u001b[0;34m()\u001b[0m\n\u001b[1;32m      <a href='vscode-notebook-cell:/home/arise/auto_debug_capstone/source_code_classification/src/rnn_attempt.ipynb#ch0000010?line=1'>2</a>\u001b[0m tn\u001b[39m.\u001b[39mset_seed(\u001b[39m42\u001b[39m)\n\u001b[1;32m      <a href='vscode-notebook-cell:/home/arise/auto_debug_capstone/source_code_classification/src/rnn_attempt.ipynb#ch0000010?line=2'>3</a>\u001b[0m cnn_rand, optimizer \u001b[39m=\u001b[39m init\u001b[39m.\u001b[39minitilize_model(device\u001b[39m=\u001b[39mdevice,\n\u001b[1;32m      <a href='vscode-notebook-cell:/home/arise/auto_debug_capstone/source_code_classification/src/rnn_attempt.ipynb#ch0000010?line=3'>4</a>\u001b[0m                                            vocab_size\u001b[39m=\u001b[39m\u001b[39mlen\u001b[39m(ch2idx),\n\u001b[1;32m      <a href='vscode-notebook-cell:/home/arise/auto_debug_capstone/source_code_classification/src/rnn_attempt.ipynb#ch0000010?line=4'>5</a>\u001b[0m                                            embed_dim\u001b[39m=\u001b[39m\u001b[39m100\u001b[39m,\n\u001b[0;32m   (...)\u001b[0m\n\u001b[1;32m     <a href='vscode-notebook-cell:/home/arise/auto_debug_capstone/source_code_classification/src/rnn_attempt.ipynb#ch0000010?line=10'>11</a>\u001b[0m                                            optimizerName\u001b[39m=\u001b[39m\u001b[39m\"\u001b[39m\u001b[39mAdadelta\u001b[39m\u001b[39m\"\u001b[39m,\n\u001b[1;32m     <a href='vscode-notebook-cell:/home/arise/auto_debug_capstone/source_code_classification/src/rnn_attempt.ipynb#ch0000010?line=11'>12</a>\u001b[0m                                            modelType\u001b[39m=\u001b[39m\u001b[39m\"\u001b[39m\u001b[39mRNN\u001b[39m\u001b[39m\"\u001b[39m)\n\u001b[0;32m---> <a href='vscode-notebook-cell:/home/arise/auto_debug_capstone/source_code_classification/src/rnn_attempt.ipynb#ch0000010?line=13'>14</a>\u001b[0m tn\u001b[39m.\u001b[39;49mtrain(device, cnn_rand, optimizer, train_dataloader, \u001b[39m'\u001b[39;49m\u001b[39m01_test1\u001b[39;49m\u001b[39m'\u001b[39;49m, writer, val_dataloader, epochs\u001b[39m=\u001b[39;49m\u001b[39m20\u001b[39;49m)\n",
      "File \u001b[0;32m~/auto_debug_capstone/source_code_classification/src/trainer.py:59\u001b[0m, in \u001b[0;36mtrain\u001b[0;34m(device, model, optimizer, train_dataloader, title, writer, val_dataloader, epochs)\u001b[0m\n\u001b[1;32m     57\u001b[0m \u001b[39m# Compute loss and accumulate the loss values\u001b[39;00m\n\u001b[1;32m     58\u001b[0m loss \u001b[39m=\u001b[39m loss_fn(logits, b_labels)\n\u001b[0;32m---> 59\u001b[0m tot_train_loss\u001b[39m.\u001b[39mappend(loss\u001b[39m.\u001b[39;49mitem())\n\u001b[1;32m     61\u001b[0m \u001b[39m# Get the predictions\u001b[39;00m\n\u001b[1;32m     62\u001b[0m preds \u001b[39m=\u001b[39m torch\u001b[39m.\u001b[39margmax(logits, dim\u001b[39m=\u001b[39m\u001b[39m1\u001b[39m)\u001b[39m.\u001b[39mflatten()\n",
      "\u001b[0;31mKeyboardInterrupt\u001b[0m: "
     ]
    }
   ],
   "source": [
    "# CNN-rand: Word vectors are randomly initialized.\n",
    "tn.set_seed(42)\n",
    "cnn_rand, optimizer = init.initilize_model(device=device,\n",
    "                                           vocab_size=len(ch2idx),\n",
    "                                           embed_dim=100,\n",
    "                                           hidden_size=100,\n",
    "                                           num_classes=len(class2idx),\n",
    "                                           n_layers=4,\n",
    "                                           dropout=0.5,\n",
    "                                           learning_rate=0.25,\n",
    "                                           optimizerName=\"Adadelta\",\n",
    "                                           modelType=\"RNN\")\n",
    "                                        \n",
    "tn.train(device, cnn_rand, optimizer, train_dataloader, '01_test1', writer, val_dataloader, epochs=20)"
   ]
  }
 ],
 "metadata": {
  "kernelspec": {
   "display_name": "Python 3.9.12 ('base')",
   "language": "python",
   "name": "python3"
  },
  "language_info": {
   "codemirror_mode": {
    "name": "ipython",
    "version": 3
   },
   "file_extension": ".py",
   "mimetype": "text/x-python",
   "name": "python",
   "nbconvert_exporter": "python",
   "pygments_lexer": "ipython3",
   "version": "3.9.12"
  },
  "orig_nbformat": 4,
  "vscode": {
   "interpreter": {
    "hash": "348b9cd948ce87438be2e622031b2ecfa29bc2d3ecc0fd03127b9a24b30227df"
   }
  }
 },
 "nbformat": 4,
 "nbformat_minor": 2
}
