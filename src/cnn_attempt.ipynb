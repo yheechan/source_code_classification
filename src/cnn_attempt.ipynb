{
 "cells": [
  {
   "cell_type": "code",
   "execution_count": 1,
   "metadata": {},
   "outputs": [],
   "source": [
    "import torch\n",
    "\n",
    "import data\n",
    "import utils\n",
    "import info_recorder as ir\n",
    "import data_loader as dl\n",
    "import initializer as init\n",
    "import trainer as tn"
   ]
  },
  {
   "cell_type": "code",
   "execution_count": 2,
   "metadata": {},
   "outputs": [],
   "source": [
    "# https://chriskhanhtran.github.io/posts/cnn-sentence-classification/"
   ]
  },
  {
   "cell_type": "code",
   "execution_count": 3,
   "metadata": {},
   "outputs": [
    {
     "name": "stdout",
     "output_type": "stream",
     "text": [
      "There are 1 GPU(s) available.\n",
      "Device name: NVIDIA GeForce GTX 1070\n"
     ]
    }
   ],
   "source": [
    "if torch.cuda.is_available():       \n",
    "    device = torch.device(\"cuda\")\n",
    "    print(f'There are {torch.cuda.device_count()} GPU(s) available.')\n",
    "    print('Device name:', torch.cuda.get_device_name(0))\n",
    "\n",
    "else:\n",
    "    print('No GPU available, using the CPU instead.')\n",
    "    device = torch.device(\"cpu\")\n"
   ]
  },
  {
   "cell_type": "code",
   "execution_count": 4,
   "metadata": {},
   "outputs": [],
   "source": [
    "df, size_info, size_dict = data.get_df()"
   ]
  },
  {
   "cell_type": "code",
   "execution_count": 5,
   "metadata": {},
   "outputs": [],
   "source": [
    "sourceCode_np = df.sourceCode.values\n",
    "codeClass_np = df.classLabel.values"
   ]
  },
  {
   "cell_type": "code",
   "execution_count": 6,
   "metadata": {},
   "outputs": [
    {
     "name": "stdout",
     "output_type": "stream",
     "text": [
      "Tokenizing...\n",
      "\n"
     ]
    }
   ],
   "source": [
    "# Tokenize, build vocabulary, encode tokens\n",
    "print(\"Tokenizing...\\n\")\n",
    "tokenized_sourceCodes, ch2idx, max_len = utils.tokenize(sourceCode_np)\n",
    "input_ids = utils.encode(tokenized_sourceCodes, ch2idx, max_len)"
   ]
  },
  {
   "cell_type": "code",
   "execution_count": 7,
   "metadata": {},
   "outputs": [],
   "source": [
    "ir.record_ch2idx(ch2idx)"
   ]
  },
  {
   "cell_type": "code",
   "execution_count": 8,
   "metadata": {},
   "outputs": [],
   "source": [
    "encoded_class2idx, class2idx, num_classes = utils.tokenize_encode_class(codeClass_np)"
   ]
  },
  {
   "cell_type": "code",
   "execution_count": 9,
   "metadata": {},
   "outputs": [],
   "source": [
    "from sklearn.model_selection import train_test_split\n",
    "\n",
    "train_inputs, val_inputs, train_labels, val_labels = train_test_split(\n",
    "    input_ids, encoded_class2idx, test_size = 0.2, random_state = 43\n",
    ")"
   ]
  },
  {
   "cell_type": "code",
   "execution_count": 10,
   "metadata": {},
   "outputs": [],
   "source": [
    "# Load data to PyTorch DataLoader\n",
    "train_dataloader, val_dataloader = dl.data_loader(train_inputs, val_inputs, train_labels, val_labels, batch_size=50)"
   ]
  },
  {
   "cell_type": "code",
   "execution_count": 11,
   "metadata": {},
   "outputs": [],
   "source": [
    "# PyTorch TensorBoard support\n",
    "from torch.utils.tensorboard import SummaryWriter\n",
    "from datetime import datetime\n",
    "\n",
    "timestamp = datetime.now().strftime('%Y%m%d_%H%M%S')\n",
    "writer = SummaryWriter('512chars/cnn')"
   ]
  },
  {
   "cell_type": "code",
   "execution_count": 12,
   "metadata": {},
   "outputs": [
    {
     "name": "stdout",
     "output_type": "stream",
     "text": [
      "Start training...\n",
      "\n",
      " Epoch  |  Train Loss  |  Val Loss  |  Val Acc  |  Elapsed \n",
      "------------------------------------------------------------\n",
      "   1    |   1.208024   |  0.687872  |   81.41   |  104.41  \n",
      "   2    |   0.677051   |  0.535532  |   85.25   |  104.53  \n",
      "   3    |   0.566109   |  0.489545  |   86.57   |  104.63  \n",
      "   4    |   0.505964   |  0.446910  |   87.80   |  104.67  \n",
      "   5    |   0.467027   |  0.430970  |   88.25   |  104.66  \n",
      "   6    |   0.435583   |  0.425795  |   88.53   |  104.63  \n",
      "   7    |   0.412378   |  0.403669  |   88.91   |  104.63  \n",
      "   8    |   0.391239   |  0.395171  |   89.38   |  104.61  \n",
      "   9    |   0.373679   |  0.387955  |   89.60   |  104.63  \n",
      "  10    |   0.357510   |  0.379645  |   89.85   |  104.62  \n",
      "  11    |   0.345772   |  0.382043  |   89.82   |  104.60  \n",
      "  12    |   0.335334   |  0.380302  |   89.90   |  104.61  \n",
      "  13    |   0.320171   |  0.378990  |   90.03   |  104.60  \n",
      "  14    |   0.313365   |  0.372272  |   90.25   |  104.58  \n",
      "  15    |   0.304238   |  0.376261  |   90.30   |  104.60  \n",
      "  16    |   0.295274   |  0.368936  |   90.25   |  104.58  \n",
      "  17    |   0.288819   |  0.376091  |   90.37   |  104.60  \n",
      "  18    |   0.281075   |  0.365613  |   90.34   |  104.60  \n",
      "  19    |   0.275196   |  0.372333  |   90.50   |  104.58  \n",
      "  20    |   0.271743   |  0.377991  |   90.65   |  104.57  \n",
      "\n",
      "\n",
      "Training complete! Best accuracy: 90.65%.\n"
     ]
    }
   ],
   "source": [
    "# CNN-rand: Word vectors are randomly initialized.\n",
    "tn.set_seed(42)\n",
    "cnn_rand, optimizer = init.initilize_model(device=device,\n",
    "                                           vocab_size=len(ch2idx),\n",
    "                                           embed_dim=100,\n",
    "                                           filter_sizes=[8, 8, 8, 8],\n",
    "                                           num_filters=[100, 200, 200, 100],\n",
    "                                           num_classes=len(class2idx),\n",
    "                                           dropout=0.5,\n",
    "                                           learning_rate=0.25,\n",
    "                                           optimizerName=\"Adadelta\",\n",
    "                                           modelType=\"CNN\")\n",
    "                                        \n",
    "tn.train(device, cnn_rand, optimizer, train_dataloader, '01_4Layer_512data_8KS', writer, val_dataloader, epochs=20)"
   ]
  },
  {
   "cell_type": "code",
   "execution_count": 13,
   "metadata": {},
   "outputs": [
    {
     "name": "stdout",
     "output_type": "stream",
     "text": [
      "Start training...\n",
      "\n",
      " Epoch  |  Train Loss  |  Val Loss  |  Val Acc  |  Elapsed \n",
      "------------------------------------------------------------\n",
      "   1    |   1.183757   |  0.625697  |   83.00   |  132.86  \n",
      "   2    |   0.618340   |  0.497635  |   86.53   |  132.71  \n",
      "   3    |   0.506801   |  0.446053  |   87.89   |  132.60  \n",
      "   4    |   0.441065   |  0.416229  |   88.75   |  132.55  \n",
      "   5    |   0.391872   |  0.391453  |   89.26   |  132.52  \n",
      "   6    |   0.354988   |  0.382385  |   89.68   |  132.49  \n",
      "   7    |   0.322876   |  0.377792  |   89.91   |  133.03  \n",
      "   8    |   0.299157   |  0.362116  |   90.30   |  132.74  \n",
      "   9    |   0.275040   |  0.362983  |   90.58   |  132.47  \n",
      "  10    |   0.256259   |  0.358487  |   90.85   |  132.63  \n",
      "  11    |   0.241221   |  0.366385  |   90.81   |  132.26  \n",
      "  12    |   0.227594   |  0.375654  |   90.77   |  132.30  \n",
      "  13    |   0.217501   |  0.372700  |   91.01   |  132.35  \n",
      "  14    |   0.205863   |  0.368005  |   91.03   |  132.56  \n",
      "  15    |   0.195554   |  0.371286  |   91.15   |  132.90  \n",
      "  16    |   0.188614   |  0.375485  |   91.35   |  169.86  \n",
      "  17    |   0.183766   |  0.374094  |   91.37   |  203.02  \n",
      "  18    |   0.173865   |  0.376865  |   91.40   |  198.13  \n",
      "  19    |   0.168324   |  0.393531  |   91.40   |  218.50  \n",
      "  20    |   0.163279   |  0.390432  |   91.28   |  218.78  \n",
      "\n",
      "\n",
      "Training complete! Best accuracy: 91.40%.\n"
     ]
    }
   ],
   "source": [
    "# CNN-rand: Word vectors are randomly initialized.\n",
    "tn.set_seed(42)\n",
    "cnn_rand, optimizer = init.initilize_model(device=device,\n",
    "                                           vocab_size=len(ch2idx),\n",
    "                                           embed_dim=100,\n",
    "                                           filter_sizes=[8, 16, 16, 8],\n",
    "                                           num_filters=[100, 200, 200, 100],\n",
    "                                           num_classes=len(class2idx),\n",
    "                                           dropout=0.5,\n",
    "                                           learning_rate=0.25,\n",
    "                                           optimizerName=\"Adadelta\",\n",
    "                                           modelType=\"CNN\")\n",
    "                                        \n",
    "tn.train(device, cnn_rand, optimizer, train_dataloader, '01_4Layer_512data_8+16KS', writer, val_dataloader, epochs=20)"
   ]
  },
  {
   "cell_type": "code",
   "execution_count": 14,
   "metadata": {},
   "outputs": [
    {
     "name": "stdout",
     "output_type": "stream",
     "text": [
      "Start training...\n",
      "\n",
      " Epoch  |  Train Loss  |  Val Loss  |  Val Acc  |  Elapsed \n",
      "------------------------------------------------------------\n",
      "   1    |   1.272304   |  0.673995  |   82.02   |  169.25  \n",
      "   2    |   0.717860   |  0.549097  |   85.30   |  313.46  \n",
      "   3    |   0.613829   |  0.489380  |   86.83   |  311.64  \n",
      "   4    |   0.556838   |  0.462381  |   87.48   |  313.87  \n",
      "   5    |   0.521028   |  0.442982  |   87.99   |  311.56  \n",
      "   6    |   0.489890   |  0.426444  |   88.47   |  311.34  \n",
      "   7    |   0.464771   |  0.421841  |   88.52   |  313.86  \n",
      "   8    |   0.444185   |  0.410466  |   89.05   |  192.49  \n",
      "   9    |   0.427912   |  0.410958  |   89.24   |  132.24  \n",
      "  10    |   0.414225   |  0.404322  |   89.44   |  132.17  \n",
      "  11    |   0.405319   |  0.400589  |   89.67   |  132.11  \n",
      "  12    |   0.391491   |  0.394453  |   89.69   |  132.11  \n",
      "  13    |   0.378846   |  0.391588  |   89.93   |  132.18  \n",
      "  14    |   0.369864   |  0.388876  |   90.01   |  132.17  \n",
      "  15    |   0.364897   |  0.387565  |   89.99   |  132.18  \n",
      "  16    |   0.356910   |  0.384089  |   90.11   |  207.29  \n",
      "  17    |   0.350146   |  0.381203  |   90.15   |  215.12  \n",
      "  18    |   0.340169   |  0.384883  |   90.21   |  161.98  \n",
      "  19    |   0.337297   |  0.389474  |   90.36   |  245.77  \n",
      "  20    |   0.333433   |  0.384028  |   90.52   |  132.17  \n",
      "\n",
      "\n",
      "Training complete! Best accuracy: 90.52%.\n"
     ]
    }
   ],
   "source": [
    "# CNN-rand: Word vectors are randomly initialized.\n",
    "tn.set_seed(42)\n",
    "cnn_rand, optimizer = init.initilize_model(device=device,\n",
    "                                           vocab_size=len(ch2idx),\n",
    "                                           embed_dim=100,\n",
    "                                           filter_sizes=[8, 16, 16, 8],\n",
    "                                           num_filters=[100, 200, 200, 100],\n",
    "                                           num_classes=len(class2idx),\n",
    "                                           dropout=0.65,\n",
    "                                           learning_rate=0.25,\n",
    "                                           optimizerName=\"Adadelta\",\n",
    "                                           modelType=\"CNN\")\n",
    "                                        \n",
    "tn.train(device, cnn_rand, optimizer, train_dataloader, '01_4Layer_512data_65DP_8+16KS', writer, val_dataloader, epochs=20)"
   ]
  }
 ],
 "metadata": {
  "kernelspec": {
   "display_name": "Python 3.9.12 ('base')",
   "language": "python",
   "name": "python3"
  },
  "language_info": {
   "codemirror_mode": {
    "name": "ipython",
    "version": 3
   },
   "file_extension": ".py",
   "mimetype": "text/x-python",
   "name": "python",
   "nbconvert_exporter": "python",
   "pygments_lexer": "ipython3",
   "version": "3.9.12"
  },
  "orig_nbformat": 4,
  "vscode": {
   "interpreter": {
    "hash": "348b9cd948ce87438be2e622031b2ecfa29bc2d3ecc0fd03127b9a24b30227df"
   }
  }
 },
 "nbformat": 4,
 "nbformat_minor": 2
}
