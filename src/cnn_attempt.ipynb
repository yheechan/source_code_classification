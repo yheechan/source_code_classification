{
 "cells": [
  {
   "cell_type": "code",
   "execution_count": 1,
   "metadata": {},
   "outputs": [],
   "source": [
    "import torch\n",
    "\n",
    "import data\n",
    "import utils\n",
    "import info_recorder as ir\n",
    "import data_loader as dl\n",
    "import initializer as init\n",
    "import trainer as tn"
   ]
  },
  {
   "cell_type": "code",
   "execution_count": 2,
   "metadata": {},
   "outputs": [],
   "source": [
    "# https://chriskhanhtran.github.io/posts/cnn-sentence-classification/"
   ]
  },
  {
   "cell_type": "code",
   "execution_count": 3,
   "metadata": {},
   "outputs": [
    {
     "name": "stdout",
     "output_type": "stream",
     "text": [
      "There are 1 GPU(s) available.\n",
      "Device name: NVIDIA GeForce GTX 1070\n"
     ]
    }
   ],
   "source": [
    "if torch.cuda.is_available():       \n",
    "    device = torch.device(\"cuda\")\n",
    "    print(f'There are {torch.cuda.device_count()} GPU(s) available.')\n",
    "    print('Device name:', torch.cuda.get_device_name(0))\n",
    "\n",
    "else:\n",
    "    print('No GPU available, using the CPU instead.')\n",
    "    device = torch.device(\"cpu\")\n"
   ]
  },
  {
   "cell_type": "code",
   "execution_count": 4,
   "metadata": {},
   "outputs": [],
   "source": [
    "df, size_info, size_dict = data.get_df()"
   ]
  },
  {
   "cell_type": "code",
   "execution_count": 5,
   "metadata": {},
   "outputs": [],
   "source": [
    "sourceCode_np = df.sourceCode.values\n",
    "codeClass_np = df.classLabel.values"
   ]
  },
  {
   "cell_type": "code",
   "execution_count": 6,
   "metadata": {},
   "outputs": [
    {
     "name": "stdout",
     "output_type": "stream",
     "text": [
      "Tokenizing...\n",
      "\n"
     ]
    }
   ],
   "source": [
    "# Tokenize, build vocabulary, encode tokens\n",
    "print(\"Tokenizing...\\n\")\n",
    "tokenized_sourceCodes, ch2idx, max_len = utils.tokenize(sourceCode_np)\n",
    "input_ids = utils.encode(tokenized_sourceCodes, ch2idx, max_len)"
   ]
  },
  {
   "cell_type": "code",
   "execution_count": 7,
   "metadata": {},
   "outputs": [],
   "source": [
    "ir.record_ch2idx(ch2idx)"
   ]
  },
  {
   "cell_type": "code",
   "execution_count": 8,
   "metadata": {},
   "outputs": [],
   "source": [
    "encoded_class2idx, class2idx, num_classes = utils.tokenize_encode_class(codeClass_np)"
   ]
  },
  {
   "cell_type": "code",
   "execution_count": 9,
   "metadata": {},
   "outputs": [],
   "source": [
    "from sklearn.model_selection import train_test_split\n",
    "\n",
    "train_inputs, val_inputs, train_labels, val_labels = train_test_split(\n",
    "    input_ids, encoded_class2idx, test_size = 0.2, random_state = 43\n",
    ")"
   ]
  },
  {
   "cell_type": "code",
   "execution_count": 10,
   "metadata": {},
   "outputs": [],
   "source": [
    "# Load data to PyTorch DataLoader\n",
    "train_dataloader, val_dataloader = dl.data_loader(train_inputs, val_inputs, train_labels, val_labels, batch_size=50)"
   ]
  },
  {
   "cell_type": "code",
   "execution_count": 11,
   "metadata": {},
   "outputs": [],
   "source": [
    "# PyTorch TensorBoard support\n",
    "from torch.utils.tensorboard import SummaryWriter\n",
    "from datetime import datetime\n",
    "\n",
    "timestamp = datetime.now().strftime('%Y%m%d_%H%M%S')\n",
    "writer = SummaryWriter('248chars/cnn')"
   ]
  },
  {
   "cell_type": "code",
   "execution_count": 12,
   "metadata": {},
   "outputs": [],
   "source": [
    "# # CNN-rand: Word vectors are randomly initialized.\n",
    "# tn.set_seed(42)\n",
    "# cnn_rand, optimizer = init.initilize_model(device=device,\n",
    "#                                            vocab_size=len(ch2idx),\n",
    "#                                            embed_dim=100,\n",
    "#                                            filter_sizes=[8, 8, 8, 8],\n",
    "#                                            num_filters=[100, 200, 200, 100],\n",
    "#                                            num_classes=len(class2idx),\n",
    "#                                            dropout=0.5,\n",
    "#                                            learning_rate=0.25,\n",
    "#                                            optimizerName=\"Adadelta\",\n",
    "#                                            modelType=\"CNN\")\n",
    "                                        \n",
    "# tn.train(device, cnn_rand, optimizer, train_dataloader, '01_4Layer_248data_8KS', writer, val_dataloader, epochs=20)"
   ]
  },
  {
   "cell_type": "code",
   "execution_count": 13,
   "metadata": {},
   "outputs": [],
   "source": [
    "# # CNN-rand: Word vectors are randomly initialized.\n",
    "# tn.set_seed(42)\n",
    "# cnn_rand, optimizer = init.initilize_model(device=device,\n",
    "#                                            vocab_size=len(ch2idx),\n",
    "#                                            embed_dim=100,\n",
    "#                                            filter_sizes=[8, 8, 16, 16],\n",
    "#                                            num_filters=[100, 200, 200, 100],\n",
    "#                                            num_classes=len(class2idx),\n",
    "#                                            dropout=0.5,\n",
    "#                                            learning_rate=0.25,\n",
    "#                                            optimizerName=\"Adadelta\",\n",
    "#                                            modelType=\"CNN\")\n",
    "                                        \n",
    "# tn.train(device, cnn_rand, optimizer, train_dataloader, '02_4Layer_w/16_8KS', writer, val_dataloader, epochs=20)"
   ]
  },
  {
   "cell_type": "code",
   "execution_count": 14,
   "metadata": {},
   "outputs": [],
   "source": [
    "# # CNN-rand: Word vectors are randomly initialized.\n",
    "# tn.set_seed(42)\n",
    "# cnn_rand, optimizer = init.initilize_model(device=device,\n",
    "#                                            vocab_size=len(ch2idx),\n",
    "#                                            embed_dim=100,\n",
    "#                                            filter_sizes=[8, 16, 16, 8],\n",
    "#                                            num_filters=[100, 200, 200, 100],\n",
    "#                                            num_classes=len(class2idx),\n",
    "#                                            dropout=0.5,\n",
    "#                                            learning_rate=0.25,\n",
    "#                                            optimizerName=\"Adadelta\",\n",
    "#                                            modelType=\"CNN\")\n",
    "                                        \n",
    "# tn.train(device, cnn_rand, optimizer, train_dataloader, '03_4Layer_mid16_8KS', writer, val_dataloader, epochs=20)"
   ]
  },
  {
   "cell_type": "code",
   "execution_count": 15,
   "metadata": {},
   "outputs": [
    {
     "name": "stdout",
     "output_type": "stream",
     "text": [
      "Start training...\n",
      "\n",
      " Epoch  |  Train Loss  |  Val Loss  |  Val Acc  |  Elapsed \n",
      "------------------------------------------------------------\n",
      "   1    |   1.276246   |  0.743430  |   79.41   |   80.12  \n",
      "   2    |   0.669179   |  0.590509  |   83.72   |   82.23  \n",
      "   3    |   0.509532   |  0.548174  |   84.52   |   82.40  \n",
      "   4    |   0.413553   |  0.503855  |   86.09   |   80.83  \n",
      "   5    |   0.343636   |  0.500661  |   86.33   |   79.33  \n",
      "   6    |   0.289125   |  0.497284  |   86.75   |   78.14  \n",
      "   7    |   0.244581   |  0.500031  |   87.06   |   78.00  \n",
      "   8    |   0.210959   |  0.511446  |   86.96   |  101.67  \n",
      "   9    |   0.186363   |  0.525254  |   87.04   |  213.46  \n",
      "  10    |   0.162785   |  0.526551  |   87.18   |   97.78  \n",
      "  11    |   0.145472   |  0.556575  |   87.40   |   82.43  \n",
      "  12    |   0.130451   |  0.561892  |   87.40   |   82.67  \n",
      "  13    |   0.117535   |  0.581733  |   87.16   |   82.49  \n",
      "  14    |   0.109264   |  0.592301  |   87.20   |   83.47  \n",
      "  15    |   0.099375   |  0.597889  |   87.22   |   82.85  \n",
      "  16    |   0.090787   |  0.611550  |   87.53   |   82.29  \n",
      "  17    |   0.084913   |  0.629691  |   87.51   |   82.86  \n",
      "  18    |   0.078773   |  0.645625  |   87.47   |   82.48  \n",
      "  19    |   0.075670   |  0.652280  |   87.57   |   82.75  \n",
      "  20    |   0.070277   |  0.661854  |   87.43   |   82.57  \n",
      "\n",
      "\n",
      "Training complete! Best accuracy: 87.57%.\n"
     ]
    }
   ],
   "source": [
    "# CNN-rand: Word vectors are randomly initialized.\n",
    "tn.set_seed(42)\n",
    "cnn_rand, optimizer = init.initilize_model(device=device,\n",
    "                                           vocab_size=len(ch2idx),\n",
    "                                           embed_dim=100,\n",
    "                                           filter_sizes=[8, 16, 16, 8],\n",
    "                                           num_filters=[100, 200, 200, 100],\n",
    "                                           num_classes=len(class2idx),\n",
    "                                           dropout=0.25,\n",
    "                                           learning_rate=0.25,\n",
    "                                           optimizerName=\"Adadelta\",\n",
    "                                           modelType=\"CNN\")\n",
    "                                        \n",
    "tn.train(device, cnn_rand, optimizer, train_dataloader, '04_4Layer_w/16_DP0.25_8KS', writer, val_dataloader, epochs=20)"
   ]
  },
  {
   "cell_type": "code",
   "execution_count": 16,
   "metadata": {},
   "outputs": [
    {
     "name": "stdout",
     "output_type": "stream",
     "text": [
      "Start training...\n",
      "\n",
      " Epoch  |  Train Loss  |  Val Loss  |  Val Acc  |  Elapsed \n",
      "------------------------------------------------------------\n",
      "   1    |   1.638853   |  0.980057  |   73.36   |   83.61  \n",
      "   2    |   1.052225   |  0.792415  |   78.88   |   82.69  \n",
      "   3    |   0.924927   |  0.714917  |   80.65   |   82.97  \n",
      "   4    |   0.858078   |  0.666322  |   82.06   |   83.47  \n",
      "   5    |   0.819791   |  0.640179  |   82.80   |   83.29  \n",
      "   6    |   0.787651   |  0.620616  |   83.26   |   82.70  \n",
      "   7    |   0.768803   |  0.615219  |   83.52   |   82.55  \n",
      "   8    |   0.750129   |  0.592537  |   84.05   |   80.98  \n",
      "   9    |   0.734515   |  0.587970  |   84.23   |   81.33  \n",
      "  10    |   0.721551   |  0.584782  |   84.25   |   80.88  \n",
      "  11    |   0.710671   |  0.582200  |   84.48   |   80.82  \n",
      "  12    |   0.699656   |  0.567211  |   84.61   |   81.36  \n",
      "  13    |   0.690464   |  0.565315  |   84.66   |   81.48  \n",
      "  14    |   0.680634   |  0.560116  |   85.01   |   81.33  \n",
      "  15    |   0.671501   |  0.555353  |   85.02   |   81.30  \n",
      "  16    |   0.667123   |  0.555050  |   85.01   |   81.00  \n",
      "  17    |   0.661857   |  0.551143  |   85.34   |   82.59  \n",
      "  18    |   0.651497   |  0.547559  |   85.48   |   80.76  \n",
      "  19    |   0.642728   |  0.551857  |   85.55   |   81.21  \n",
      "  20    |   0.637935   |  0.551986  |   85.32   |   81.44  \n",
      "\n",
      "\n",
      "Training complete! Best accuracy: 85.55%.\n"
     ]
    }
   ],
   "source": [
    "# CNN-rand: Word vectors are randomly initialized.\n",
    "tn.set_seed(42)\n",
    "cnn_rand, optimizer = init.initilize_model(device=device,\n",
    "                                           vocab_size=len(ch2idx),\n",
    "                                           embed_dim=100,\n",
    "                                           filter_sizes=[8, 16, 16, 8],\n",
    "                                           num_filters=[100, 200, 200, 100],\n",
    "                                           num_classes=len(class2idx),\n",
    "                                           dropout=0.75,\n",
    "                                           learning_rate=0.25,\n",
    "                                           optimizerName=\"Adadelta\",\n",
    "                                           modelType=\"CNN\")\n",
    "                                        \n",
    "tn.train(device, cnn_rand, optimizer, train_dataloader, '04_4Layer_w/16_DP0.75_8KS', writer, val_dataloader, epochs=20)"
   ]
  },
  {
   "cell_type": "code",
   "execution_count": null,
   "metadata": {},
   "outputs": [],
   "source": []
  }
 ],
 "metadata": {
  "kernelspec": {
   "display_name": "Python 3.9.12 ('base')",
   "language": "python",
   "name": "python3"
  },
  "language_info": {
   "codemirror_mode": {
    "name": "ipython",
    "version": 3
   },
   "file_extension": ".py",
   "mimetype": "text/x-python",
   "name": "python",
   "nbconvert_exporter": "python",
   "pygments_lexer": "ipython3",
   "version": "3.9.12"
  },
  "orig_nbformat": 4,
  "vscode": {
   "interpreter": {
    "hash": "348b9cd948ce87438be2e622031b2ecfa29bc2d3ecc0fd03127b9a24b30227df"
   }
  }
 },
 "nbformat": 4,
 "nbformat_minor": 2
}
