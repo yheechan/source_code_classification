{
 "cells": [
  {
   "cell_type": "code",
   "execution_count": 1,
   "metadata": {},
   "outputs": [],
   "source": [
    "import torch\n",
    "import pandas as pd\n",
    "from sklearn import metrics\n",
    "\n",
    "import data\n",
    "import utils\n",
    "import info_recorder as ir\n",
    "import data_loader as dl\n",
    "import initializer as init\n",
    "import trainer as tn\n",
    "import tester as ts"
   ]
  },
  {
   "cell_type": "code",
   "execution_count": 2,
   "metadata": {},
   "outputs": [],
   "source": [
    "# https://chriskhanhtran.github.io/posts/cnn-sentence-classification/"
   ]
  },
  {
   "cell_type": "code",
   "execution_count": 3,
   "metadata": {},
   "outputs": [
    {
     "name": "stdout",
     "output_type": "stream",
     "text": [
      "There are 1 GPU(s) available.\n",
      "Device name: NVIDIA GeForce GTX 1070\n"
     ]
    }
   ],
   "source": [
    "if torch.cuda.is_available():       \n",
    "    device = torch.device(\"cuda\")\n",
    "    print(f'There are {torch.cuda.device_count()} GPU(s) available.')\n",
    "    print('Device name:', torch.cuda.get_device_name(0))\n",
    "\n",
    "else:\n",
    "    print('No GPU available, using the CPU instead.')\n",
    "    device = torch.device(\"cpu\")\n"
   ]
  },
  {
   "cell_type": "code",
   "execution_count": 4,
   "metadata": {},
   "outputs": [],
   "source": [
    "df, size_info, size_dict = data.get_df()"
   ]
  },
  {
   "cell_type": "code",
   "execution_count": 5,
   "metadata": {},
   "outputs": [],
   "source": [
    "sourceCode_np = df.sourceCode.values\n",
    "codeClass_np = df.classLabel.values"
   ]
  },
  {
   "cell_type": "code",
   "execution_count": 6,
   "metadata": {},
   "outputs": [
    {
     "name": "stdout",
     "output_type": "stream",
     "text": [
      "Tokenizing...\n",
      "\n"
     ]
    }
   ],
   "source": [
    "# Tokenize, build vocabulary, encode tokens\n",
    "print(\"Tokenizing...\\n\")\n",
    "tokenized_sourceCodes, ch2idx, max_len = utils.tokenize(sourceCode_np)\n",
    "input_ids = utils.encode(tokenized_sourceCodes, ch2idx, max_len)"
   ]
  },
  {
   "cell_type": "code",
   "execution_count": 7,
   "metadata": {},
   "outputs": [],
   "source": [
    "ir.record_ch2idx(ch2idx)"
   ]
  },
  {
   "cell_type": "code",
   "execution_count": 8,
   "metadata": {},
   "outputs": [],
   "source": [
    "encoded_class2idx, class2idx, num_classes = utils.tokenize_encode_class(codeClass_np)"
   ]
  },
  {
   "cell_type": "code",
   "execution_count": 9,
   "metadata": {},
   "outputs": [],
   "source": [
    "from sklearn.model_selection import train_test_split\n",
    "\n",
    "train_inputs, test_inputs, train_labels, test_labels = train_test_split(\n",
    "    input_ids, encoded_class2idx, test_size = 0.1, random_state = 43\n",
    ")"
   ]
  },
  {
   "cell_type": "code",
   "execution_count": 10,
   "metadata": {},
   "outputs": [],
   "source": [
    "train_inputs, val_inputs, train_labels, val_labels = train_test_split(\n",
    "    train_inputs, train_labels, test_size = 0.1, random_state = 43\n",
    ")"
   ]
  },
  {
   "cell_type": "code",
   "execution_count": 11,
   "metadata": {},
   "outputs": [],
   "source": [
    "# Load data to PyTorch DataLoader\n",
    "train_dataloader, val_dataloader, test_dataloader = dl.data_loader(train_inputs, val_inputs, test_inputs, train_labels, val_labels, test_labels, batch_size=50)"
   ]
  },
  {
   "cell_type": "code",
   "execution_count": 12,
   "metadata": {},
   "outputs": [],
   "source": [
    "# PyTorch TensorBoard support\n",
    "from torch.utils.tensorboard import SummaryWriter\n",
    "from datetime import datetime\n",
    "\n",
    "timestamp = datetime.now().strftime('%Y%m%d_%H%M%S')\n",
    "writer = SummaryWriter('with_prec_recall/tests')"
   ]
  },
  {
   "cell_type": "code",
   "execution_count": 13,
   "metadata": {},
   "outputs": [
    {
     "name": "stdout",
     "output_type": "stream",
     "text": [
      "Start training...\n",
      "\n",
      " Epoch  |  Train Loss  |  Val Loss  |  Val Acc  |  Elapsed \n",
      "------------------------------------------------------------\n",
      "   1    |   1.154640   |  0.639006  |   82.35   |  129.19  \n",
      "   2    |   0.627950   |  0.505511  |   86.22   |  129.27  \n",
      "   3    |   0.513300   |  0.453222  |   87.42   |  129.32  \n",
      "   4    |   0.446759   |  0.423555  |   88.24   |  129.22  \n",
      "   5    |   0.396855   |  0.400179  |   88.95   |  129.15  \n",
      "   6    |   0.360231   |  0.398795  |   89.16   |  129.13  \n",
      "   7    |   0.328866   |  0.378936  |   89.68   |  129.10  \n",
      "   8    |   0.304838   |  0.364237  |   90.19   |  129.06  \n",
      "   9    |   0.282731   |  0.364575  |   90.42   |  129.07  \n",
      "  10    |   0.265651   |  0.360790  |   90.57   |  129.07  \n",
      "  11    |   0.247932   |  0.360132  |   90.59   |  129.06  \n",
      "  12    |   0.234224   |  0.371967  |   90.80   |  129.02  \n",
      "  13    |   0.223537   |  0.368326  |   90.78   |  129.02  \n",
      "  14    |   0.211308   |  0.364104  |   91.03   |  129.05  \n",
      "  15    |   0.205210   |  0.368811  |   90.98   |  129.04  \n",
      "  16    |   0.193972   |  0.376596  |   91.14   |  128.99  \n",
      "  17    |   0.187996   |  0.372390  |   91.24   |  129.06  \n",
      "  18    |   0.179150   |  0.377388  |   91.19   |  129.04  \n",
      "  19    |   0.174575   |  0.373395  |   91.42   |  128.99  \n",
      "  20    |   0.166913   |  0.372378  |   91.39   |  128.96  \n",
      "\n",
      "\n",
      "Training complete! Best accuracy: 91.42%.\n"
     ]
    }
   ],
   "source": [
    "# CNN-rand: Word vectors are randomly initialized.\n",
    "tn.set_seed(42)\n",
    "cnn_rand, optimizer = init.initilize_model(device=device,\n",
    "                                           vocab_size=len(ch2idx),\n",
    "                                           embed_dim=100,\n",
    "                                           filter_sizes=[8, 16, 16, 8],\n",
    "                                           num_filters=[100, 200, 200, 100],\n",
    "                                           num_classes=len(class2idx),\n",
    "                                           dropout=0.5,\n",
    "                                           learning_rate=0.25,\n",
    "                                           optimizerName=\"Adadelta\",\n",
    "                                           modelType=\"CNN\")\n",
    "                                        \n",
    "tn.train(device, cnn_rand, optimizer, train_dataloader, '01_test3_cnn', writer, val_dataloader, epochs=20)"
   ]
  },
  {
   "cell_type": "code",
   "execution_count": 14,
   "metadata": {},
   "outputs": [
    {
     "name": "stdout",
     "output_type": "stream",
     "text": [
      "test loss:  0.37255751395686754\n",
      "test acc:  91.64285714285715\n"
     ]
    }
   ],
   "source": [
    "tot_pred, tot_label = ts.test(device, cnn_rand, test_dataloader)"
   ]
  },
  {
   "cell_type": "code",
   "execution_count": 15,
   "metadata": {},
   "outputs": [
    {
     "name": "stdout",
     "output_type": "stream",
     "text": [
      "[[ 902    3    3    7    1    2    6    2    0    2    2    4    5    6\n",
      "     1    0    0    1    3    1   10]\n",
      " [   6  947    7    3    5    0    0    1    1    1    3    9    2    0\n",
      "     0    2    4    0    2    1    6]\n",
      " [   6    3  952    0    4    1    2    5    0    1    0    2   34    0\n",
      "     1    0    4    7    4    2    2]\n",
      " [   5    3    1  798    1    7    6    0    0   18   55    3    0    1\n",
      "     3    1    2    0    1    0   85]\n",
      " [   0    6    4    0 1001    0    0    1    2    2    2   13    4    1\n",
      "     0    1    1    1    3    3    5]\n",
      " [   1    5    0    8    1  829   31    1    0    1    7   20    4    0\n",
      "     1    1    1    0    3    0   29]\n",
      " [   5    0    3    3    1   19  951    0    0    2    5   22    5    1\n",
      "     1    3    2    0    3    0    9]\n",
      " [   2    6    1    2    8    1    1  911    0    0    0    2    5    1\n",
      "     1    3    4    0    2    0    1]\n",
      " [   0    0    0    0    0    0    0    0 1002    0    0    0    0    0\n",
      "     0    0    0    0    0    0    0]\n",
      " [   3    4    2   12    1    1    2    0    0  889   11   16    1    0\n",
      "     1    2    3    0    7    0   29]\n",
      " [   2    3    0   44    0    9    5    0    0   12  775    1    0    1\n",
      "     1    4    0    0    2    0  120]\n",
      " [   5    5    0    3    5    4   16    3    0    6    0  961    2    0\n",
      "     0    2    1    1    1    0    3]\n",
      " [   5    3   68    2    1    1    8    1    0    3    0    6  921    0\n",
      "     0    1    1    3    0    0    2]\n",
      " [  29    6    2    0    3    0    0    1    0    2    0    1    2  941\n",
      "     3    2    3    0    1    4    3]\n",
      " [   3    1    1    2    0    0    1    1    0    0    0    0    3    1\n",
      "   958    1    1   20    0    1    2]\n",
      " [   2    6    1    1    3    0    2    6    0    1    0    6    1    0\n",
      "     0  951    0    1    0    0    7]\n",
      " [   4    0    0    0    1    0    0    0    0    0    0    0    0    0\n",
      "     0    0 1023    0    4    1    0]\n",
      " [   3    0    9    1    1    0    2    0    0    1    1    4    6    0\n",
      "    10    3    0  974    2    0    3]\n",
      " [   2    3    4    2    8    3    1    0    1   14    3   10    1    1\n",
      "     1    4    6    1  886    3    6]\n",
      " [   3    2    3    0    4    1    0    4    1    0    0    1    0    0\n",
      "     0    0    3    0    0  990    3]\n",
      " [  25    6    1  103    1   10   19    1    0   34  120    4    0    1\n",
      "     0    2    0    3    2    1  683]]\n"
     ]
    }
   ],
   "source": [
    "print(metrics.confusion_matrix(tot_label.cpu(), tot_pred.cpu()))"
   ]
  },
  {
   "cell_type": "code",
   "execution_count": 16,
   "metadata": {},
   "outputs": [],
   "source": [
    "results = metrics.classification_report(tot_label.cpu(), tot_pred.cpu(), output_dict=True)\n",
    "results_df = pd.DataFrame.from_dict(results).transpose()\n",
    "results_df.to_excel('../result/03_final_with_test_512a.xlsx', sheet_name='final_with_test_512a')\n"
   ]
  },
  {
   "cell_type": "code",
   "execution_count": 17,
   "metadata": {},
   "outputs": [
    {
     "name": "stdout",
     "output_type": "stream",
     "text": [
      "Start training...\n",
      "\n",
      " Epoch  |  Train Loss  |  Val Loss  |  Val Acc  |  Elapsed \n",
      "------------------------------------------------------------\n",
      "   1    |   1.237978   |  0.713495  |   80.30   |  101.54  \n",
      "   2    |   0.688631   |  0.554891  |   84.84   |  101.49  \n",
      "   3    |   0.573060   |  0.487026  |   86.43   |  101.45  \n",
      "   4    |   0.511364   |  0.458646  |   87.16   |  101.43  \n",
      "   5    |   0.471863   |  0.436352  |   87.87   |  101.39  \n",
      "   6    |   0.440895   |  0.420905  |   88.12   |  101.37  \n",
      "   7    |   0.414610   |  0.414445  |   88.49   |  101.39  \n",
      "   8    |   0.392261   |  0.399562  |   88.92   |  101.36  \n",
      "   9    |   0.376906   |  0.391564  |   89.31   |  101.35  \n",
      "  10    |   0.360639   |  0.389785  |   89.34   |  101.33  \n",
      "  11    |   0.346487   |  0.387506  |   89.60   |  101.34  \n",
      "  12    |   0.332179   |  0.391459  |   89.57   |  101.35  \n",
      "  13    |   0.323386   |  0.384420  |   89.74   |  101.31  \n",
      "  14    |   0.316238   |  0.375497  |   89.93   |  101.30  \n",
      "  15    |   0.305780   |  0.375682  |   89.97   |  101.27  \n",
      "  16    |   0.297623   |  0.371335  |   90.15   |  101.34  \n",
      "  17    |   0.290967   |  0.376804  |   90.02   |  101.32  \n",
      "  18    |   0.284753   |  0.378607  |   90.12   |  101.32  \n",
      "  19    |   0.278051   |  0.365373  |   90.34   |  101.30  \n",
      "  20    |   0.274905   |  0.373417  |   90.47   |  101.28  \n",
      "\n",
      "\n",
      "Training complete! Best accuracy: 90.47%.\n"
     ]
    }
   ],
   "source": [
    "# CNN-rand: Word vectors are randomly initialized.\n",
    "tn.set_seed(42)\n",
    "cnn_rand, optimizer = init.initilize_model(device=device,\n",
    "                                           vocab_size=len(ch2idx),\n",
    "                                           embed_dim=100,\n",
    "                                           filter_sizes=[8, 8, 8, 8],\n",
    "                                           num_filters=[100, 200, 200, 100],\n",
    "                                           num_classes=len(class2idx),\n",
    "                                           dropout=0.5,\n",
    "                                           learning_rate=0.25,\n",
    "                                           optimizerName=\"Adadelta\",\n",
    "                                           modelType=\"CNN\")\n",
    "                                        \n",
    "tn.train(device, cnn_rand, optimizer, train_dataloader, '01_test4_cnn', writer, val_dataloader, epochs=20)"
   ]
  },
  {
   "cell_type": "code",
   "execution_count": 18,
   "metadata": {},
   "outputs": [
    {
     "name": "stdout",
     "output_type": "stream",
     "text": [
      "test loss:  0.36603207735433463\n",
      "test acc:  90.82380952380953\n"
     ]
    }
   ],
   "source": [
    "tot_pred, tot_label = ts.test(device, cnn_rand, test_dataloader)\n",
    "\n",
    "results = metrics.classification_report(tot_label.cpu(), tot_pred.cpu(), output_dict=True)\n",
    "results_df = pd.DataFrame.from_dict(results).transpose()\n",
    "results_df.to_excel('../result/04_final_with_test_512b.xlsx', sheet_name='final_with_test_512b')"
   ]
  }
 ],
 "metadata": {
  "kernelspec": {
   "display_name": "Python 3.9.12 ('base')",
   "language": "python",
   "name": "python3"
  },
  "language_info": {
   "codemirror_mode": {
    "name": "ipython",
    "version": 3
   },
   "file_extension": ".py",
   "mimetype": "text/x-python",
   "name": "python",
   "nbconvert_exporter": "python",
   "pygments_lexer": "ipython3",
   "version": "3.9.12"
  },
  "orig_nbformat": 4,
  "vscode": {
   "interpreter": {
    "hash": "348b9cd948ce87438be2e622031b2ecfa29bc2d3ecc0fd03127b9a24b30227df"
   }
  }
 },
 "nbformat": 4,
 "nbformat_minor": 2
}
