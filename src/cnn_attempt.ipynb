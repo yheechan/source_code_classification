{
 "cells": [
  {
   "cell_type": "code",
   "execution_count": 1,
   "metadata": {},
   "outputs": [],
   "source": [
    "import torch\n",
    "\n",
    "import data\n",
    "import utils\n",
    "import info_recorder as ir\n",
    "import data_loader as dl\n",
    "import initializer as init\n",
    "import trainer as tn"
   ]
  },
  {
   "cell_type": "code",
   "execution_count": 2,
   "metadata": {},
   "outputs": [],
   "source": [
    "# https://chriskhanhtran.github.io/posts/cnn-sentence-classification/"
   ]
  },
  {
   "cell_type": "code",
   "execution_count": 3,
   "metadata": {},
   "outputs": [
    {
     "name": "stdout",
     "output_type": "stream",
     "text": [
      "There are 1 GPU(s) available.\n",
      "Device name: NVIDIA GeForce GTX 1070\n"
     ]
    }
   ],
   "source": [
    "if torch.cuda.is_available():       \n",
    "    device = torch.device(\"cuda\")\n",
    "    print(f'There are {torch.cuda.device_count()} GPU(s) available.')\n",
    "    print('Device name:', torch.cuda.get_device_name(0))\n",
    "\n",
    "else:\n",
    "    print('No GPU available, using the CPU instead.')\n",
    "    device = torch.device(\"cpu\")\n"
   ]
  },
  {
   "cell_type": "code",
   "execution_count": 4,
   "metadata": {},
   "outputs": [],
   "source": [
    "df, size_info, size_dict = data.get_df()"
   ]
  },
  {
   "cell_type": "code",
   "execution_count": 5,
   "metadata": {},
   "outputs": [],
   "source": [
    "sourceCode_np = df.sourceCode.values\n",
    "codeClass_np = df.classLabel.values"
   ]
  },
  {
   "cell_type": "code",
   "execution_count": 6,
   "metadata": {},
   "outputs": [
    {
     "name": "stdout",
     "output_type": "stream",
     "text": [
      "Tokenizing...\n",
      "\n"
     ]
    }
   ],
   "source": [
    "# Tokenize, build vocabulary, encode tokens\n",
    "print(\"Tokenizing...\\n\")\n",
    "tokenized_sourceCodes, ch2idx, max_len = utils.tokenize(sourceCode_np)\n",
    "input_ids = utils.encode(tokenized_sourceCodes, ch2idx, max_len)"
   ]
  },
  {
   "cell_type": "code",
   "execution_count": 7,
   "metadata": {},
   "outputs": [],
   "source": [
    "ir.record_ch2idx(ch2idx)"
   ]
  },
  {
   "cell_type": "code",
   "execution_count": 8,
   "metadata": {},
   "outputs": [],
   "source": [
    "encoded_class2idx, class2idx, num_classes = utils.tokenize_encode_class(codeClass_np)"
   ]
  },
  {
   "cell_type": "code",
   "execution_count": 9,
   "metadata": {},
   "outputs": [],
   "source": [
    "from sklearn.model_selection import train_test_split\n",
    "\n",
    "train_inputs, val_inputs, train_labels, val_labels = train_test_split(\n",
    "    input_ids, encoded_class2idx, test_size = 0.2, random_state = 43\n",
    ")"
   ]
  },
  {
   "cell_type": "code",
   "execution_count": 10,
   "metadata": {},
   "outputs": [],
   "source": [
    "# Load data to PyTorch DataLoader\n",
    "train_dataloader, val_dataloader = dl.data_loader(train_inputs, val_inputs, train_labels, val_labels, batch_size=50)"
   ]
  },
  {
   "cell_type": "code",
   "execution_count": 11,
   "metadata": {},
   "outputs": [],
   "source": [
    "# PyTorch TensorBoard support\n",
    "from torch.utils.tensorboard import SummaryWriter\n",
    "from datetime import datetime\n",
    "\n",
    "timestamp = datetime.now().strftime('%Y%m%d_%H%M%S')\n",
    "writer = SummaryWriter('512chars/cnn')"
   ]
  },
  {
   "cell_type": "code",
   "execution_count": 12,
   "metadata": {},
   "outputs": [],
   "source": [
    "# CNN-rand: Word vectors are randomly initialized.\n",
    "tn.set_seed(42)\n",
    "cnn_rand, optimizer = init.initilize_model(device=device,\n",
    "                                           vocab_size=len(ch2idx),\n",
    "                                           embed_dim=100,\n",
    "                                           filter_sizes=[8, 8, 8, 8],\n",
    "                                           num_filters=[100, 200, 200, 100],\n",
    "                                           num_classes=len(class2idx),\n",
    "                                           dropout=0.5,\n",
    "                                           learning_rate=0.25,\n",
    "                                           optimizerName=\"Adadelta\",\n",
    "                                           modelType=\"CNN\")\n",
    "                                        \n",
    "# tn.train(device, cnn_rand, optimizer, train_dataloader, '01_4Layer_512data_8KS', writer, val_dataloader, epochs=20)"
   ]
  },
  {
   "cell_type": "code",
   "execution_count": 13,
   "metadata": {},
   "outputs": [
    {
     "data": {
      "text/plain": [
       "CNN_NLP(\n",
       "  (embedding): Embedding(97, 100, padding_idx=0, max_norm=5.0)\n",
       "  (conv1d_list): ModuleList(\n",
       "    (0): Conv1d(100, 100, kernel_size=(8,), stride=(1,))\n",
       "    (1): Conv1d(100, 200, kernel_size=(8,), stride=(1,))\n",
       "    (2): Conv1d(100, 200, kernel_size=(8,), stride=(1,))\n",
       "    (3): Conv1d(100, 100, kernel_size=(8,), stride=(1,))\n",
       "  )\n",
       "  (fc): Linear(in_features=600, out_features=21, bias=True)\n",
       "  (dropout): Dropout(p=0.5, inplace=False)\n",
       ")"
      ]
     },
     "execution_count": 13,
     "metadata": {},
     "output_type": "execute_result"
    }
   ],
   "source": [
    "cnn_rand"
   ]
  },
  {
   "cell_type": "code",
   "execution_count": 14,
   "metadata": {},
   "outputs": [],
   "source": [
    "# # CNN-rand: Word vectors are randomly initialized.\n",
    "# tn.set_seed(42)\n",
    "# cnn_rand, optimizer = init.initilize_model(device=device,\n",
    "#                                            vocab_size=len(ch2idx),\n",
    "#                                            embed_dim=100,\n",
    "#                                            filter_sizes=[8, 16, 16, 8],\n",
    "#                                            num_filters=[100, 200, 200, 100],\n",
    "#                                            num_classes=len(class2idx),\n",
    "#                                            dropout=0.5,\n",
    "#                                            learning_rate=0.25,\n",
    "#                                            optimizerName=\"Adadelta\",\n",
    "#                                            modelType=\"CNN\")\n",
    "                                        \n",
    "# tn.train(device, cnn_rand, optimizer, train_dataloader, '01_4Layer_512data_8+16KS', writer, val_dataloader, epochs=20)"
   ]
  },
  {
   "cell_type": "code",
   "execution_count": 15,
   "metadata": {},
   "outputs": [],
   "source": [
    "# # CNN-rand: Word vectors are randomly initialized.\n",
    "# tn.set_seed(42)\n",
    "# cnn_rand, optimizer = init.initilize_model(device=device,\n",
    "#                                            vocab_size=len(ch2idx),\n",
    "#                                            embed_dim=100,\n",
    "#                                            filter_sizes=[8, 16, 16, 8],\n",
    "#                                            num_filters=[100, 200, 200, 100],\n",
    "#                                            num_classes=len(class2idx),\n",
    "#                                            dropout=0.65,\n",
    "#                                            learning_rate=0.25,\n",
    "#                                            optimizerName=\"Adadelta\",\n",
    "#                                            modelType=\"CNN\")\n",
    "                                        \n",
    "# tn.train(device, cnn_rand, optimizer, train_dataloader, '01_4Layer_512data_65DP_8+16KS', writer, val_dataloader, epochs=20)"
   ]
  }
 ],
 "metadata": {
  "kernelspec": {
   "display_name": "Python 3.9.12 ('base')",
   "language": "python",
   "name": "python3"
  },
  "language_info": {
   "codemirror_mode": {
    "name": "ipython",
    "version": 3
   },
   "file_extension": ".py",
   "mimetype": "text/x-python",
   "name": "python",
   "nbconvert_exporter": "python",
   "pygments_lexer": "ipython3",
   "version": "3.9.12"
  },
  "orig_nbformat": 4,
  "vscode": {
   "interpreter": {
    "hash": "348b9cd948ce87438be2e622031b2ecfa29bc2d3ecc0fd03127b9a24b30227df"
   }
  }
 },
 "nbformat": 4,
 "nbformat_minor": 2
}
