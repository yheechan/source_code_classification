{
 "cells": [
  {
   "cell_type": "code",
   "execution_count": 1,
   "metadata": {},
   "outputs": [],
   "source": [
    "import torch\n",
    "import pandas as pd\n",
    "from sklearn import metrics\n",
    "\n",
    "import data\n",
    "import utils\n",
    "import info_recorder as ir\n",
    "import data_loader as dl\n",
    "import initializer as init\n",
    "import trainer as tn\n",
    "import tester as ts"
   ]
  },
  {
   "cell_type": "code",
   "execution_count": 2,
   "metadata": {},
   "outputs": [],
   "source": [
    "# https://chriskhanhtran.github.io/posts/cnn-sentence-classification/"
   ]
  },
  {
   "cell_type": "code",
   "execution_count": 3,
   "metadata": {},
   "outputs": [
    {
     "name": "stdout",
     "output_type": "stream",
     "text": [
      "There are 1 GPU(s) available.\n",
      "Device name: NVIDIA GeForce GTX 1070\n"
     ]
    }
   ],
   "source": [
    "if torch.cuda.is_available():       \n",
    "    device = torch.device(\"cuda\")\n",
    "    print(f'There are {torch.cuda.device_count()} GPU(s) available.')\n",
    "    print('Device name:', torch.cuda.get_device_name(0))\n",
    "\n",
    "else:\n",
    "    print('No GPU available, using the CPU instead.')\n",
    "    device = torch.device(\"cpu\")\n"
   ]
  },
  {
   "cell_type": "code",
   "execution_count": 4,
   "metadata": {},
   "outputs": [],
   "source": [
    "df, size_info, size_dict = data.get_df()"
   ]
  },
  {
   "cell_type": "code",
   "execution_count": 5,
   "metadata": {},
   "outputs": [],
   "source": [
    "sourceCode_np = df.sourceCode.values\n",
    "codeClass_np = df.classLabel.values"
   ]
  },
  {
   "cell_type": "code",
   "execution_count": 6,
   "metadata": {},
   "outputs": [
    {
     "name": "stdout",
     "output_type": "stream",
     "text": [
      "Tokenizing...\n",
      "\n"
     ]
    }
   ],
   "source": [
    "# Tokenize, build vocabulary, encode tokens\n",
    "print(\"Tokenizing...\\n\")\n",
    "tokenized_sourceCodes, ch2idx, max_len = utils.tokenize(sourceCode_np)\n",
    "input_ids = utils.encode(tokenized_sourceCodes, ch2idx, max_len)"
   ]
  },
  {
   "cell_type": "code",
   "execution_count": 7,
   "metadata": {},
   "outputs": [],
   "source": [
    "ir.record_ch2idx(ch2idx)"
   ]
  },
  {
   "cell_type": "code",
   "execution_count": 8,
   "metadata": {},
   "outputs": [],
   "source": [
    "encoded_class2idx, class2idx, num_classes = utils.tokenize_encode_class(codeClass_np)"
   ]
  },
  {
   "cell_type": "code",
   "execution_count": 9,
   "metadata": {},
   "outputs": [],
   "source": [
    "from sklearn.model_selection import train_test_split\n",
    "\n",
    "train_inputs, test_inputs, train_labels, test_labels = train_test_split(\n",
    "    input_ids, encoded_class2idx, test_size = 0.1, random_state = 43\n",
    ")"
   ]
  },
  {
   "cell_type": "code",
   "execution_count": 10,
   "metadata": {},
   "outputs": [],
   "source": [
    "train_inputs, val_inputs, train_labels, val_labels = train_test_split(\n",
    "    train_inputs, train_labels, test_size = 0.1, random_state = 43\n",
    ")"
   ]
  },
  {
   "cell_type": "code",
   "execution_count": 11,
   "metadata": {},
   "outputs": [],
   "source": [
    "# Load data to PyTorch DataLoader\n",
    "train_dataloader, val_dataloader, test_dataloader = dl.data_loader(train_inputs, val_inputs, test_inputs, train_labels, val_labels, test_labels, batch_size=50)"
   ]
  },
  {
   "cell_type": "code",
   "execution_count": 12,
   "metadata": {},
   "outputs": [],
   "source": [
    "# PyTorch TensorBoard support\n",
    "from torch.utils.tensorboard import SummaryWriter\n",
    "from datetime import datetime\n",
    "\n",
    "timestamp = datetime.now().strftime('%Y%m%d_%H%M%S')\n",
    "writer = SummaryWriter('with_prec_recall/cnn')"
   ]
  },
  {
   "cell_type": "code",
   "execution_count": 13,
   "metadata": {},
   "outputs": [
    {
     "name": "stdout",
     "output_type": "stream",
     "text": [
      "Start training...\n",
      "\n",
      " Epoch  |  Train Loss  |  Val Loss  |  Val Acc  |  Elapsed \n",
      "------------------------------------------------------------\n",
      "   1    |   1.391910   |  0.835852  |   76.81   |   73.39  \n",
      "   2    |   0.794447   |  0.648879  |   82.21   |   73.20  \n",
      "   3    |   0.652138   |  0.581333  |   83.94   |   73.18  \n",
      "   4    |   0.573458   |  0.551433  |   84.61   |   73.15  \n",
      "   5    |   0.518128   |  0.528120  |   85.33   |   73.09  \n",
      "   6    |   0.472800   |  0.512077  |   85.94   |   73.03  \n",
      "   7    |   0.441053   |  0.507951  |   85.93   |   73.01  \n",
      "   8    |   0.410278   |  0.496286  |   86.48   |   73.01  \n",
      "   9    |   0.386647   |  0.493021  |   86.71   |   73.02  \n",
      "  10    |   0.364926   |  0.495663  |   86.63   |   73.01  \n",
      "  11    |   0.345848   |  0.496871  |   86.92   |   73.01  \n",
      "  12    |   0.331930   |  0.499155  |   86.80   |   73.00  \n",
      "  13    |   0.315864   |  0.512689  |   86.71   |   73.03  \n",
      "  14    |   0.304009   |  0.499484  |   86.89   |   73.00  \n",
      "  15    |   0.293900   |  0.513991  |   87.08   |   72.99  \n",
      "  16    |   0.283691   |  0.514956  |   86.89   |   72.96  \n",
      "  17    |   0.269910   |  0.527510  |   87.04   |   72.99  \n",
      "  18    |   0.267288   |  0.523962  |   87.11   |   73.01  \n",
      "  19    |   0.257141   |  0.520623  |   87.05   |   73.02  \n",
      "  20    |   0.251065   |  0.531700  |   87.22   |   73.01  \n",
      "\n",
      "\n",
      "Training complete! Best accuracy: 87.22%.\n"
     ]
    }
   ],
   "source": [
    "# CNN-rand: Word vectors are randomly initialized.\n",
    "tn.set_seed(42)\n",
    "cnn_rand, optimizer = init.initilize_model(device=device,\n",
    "                                           vocab_size=len(ch2idx),\n",
    "                                           embed_dim=100,\n",
    "                                           filter_sizes=[8, 16, 16, 8],\n",
    "                                           num_filters=[100, 200, 200, 100],\n",
    "                                           num_classes=len(class2idx),\n",
    "                                           dropout=0.5,\n",
    "                                           learning_rate=0.25,\n",
    "                                           optimizerName=\"Adadelta\",\n",
    "                                           modelType=\"CNN\")\n",
    "                                        \n",
    "tn.train(device, cnn_rand, optimizer, train_dataloader, '01_test3_cnn', writer, val_dataloader, epochs=20)"
   ]
  },
  {
   "cell_type": "code",
   "execution_count": 14,
   "metadata": {},
   "outputs": [
    {
     "name": "stdout",
     "output_type": "stream",
     "text": [
      "test loss:  0.5283101548751196\n",
      "test acc:  87.73809523809524\n"
     ]
    }
   ],
   "source": [
    "tot_pred, tot_label = ts.test(device, cnn_rand, test_dataloader)"
   ]
  },
  {
   "cell_type": "code",
   "execution_count": 15,
   "metadata": {},
   "outputs": [
    {
     "name": "stdout",
     "output_type": "stream",
     "text": [
      "[[ 848    1    9    7    0    4   18    0    0    5    1   15    7   12\n",
      "     2    3    5    0    6    3   15]\n",
      " [   0  890    7    5    5    2    2    3    6    6    1   21    4    5\n",
      "     0    7   12    2   10    5    7]\n",
      " [   3    2  930    3    1    0    6    3    0    1    1    4   40    0\n",
      "     0    2   18    6    5    4    1]\n",
      " [   9    6    9  699    3   15   19    4    1   15   55    6    0    2\n",
      "     2    2    1    1    3    4  134]\n",
      " [   1    6    4    2  979    0    0    2    1    1    2   20    2    3\n",
      "     1    4    9    0    8    3    2]\n",
      " [   3    1    0   19    1  832   24    4    0    1    6   29    0    0\n",
      "     0    1    0    0    4    0   18]\n",
      " [  11    1    5    7    0   32  914    1    0    7    0   31    6    2\n",
      "     3    2    2    1    4    1    5]\n",
      " [   6    6    6    6    3    4    1  870    0    3    3    7    1    3\n",
      "     2    7    8    1    5    5    4]\n",
      " [   0    0    0    0    0    0    0    0 1000    0    0    0    0    0\n",
      "     0    0    0    0    0    0    2]\n",
      " [   3    2    0   24    0    6    5    0    0  852   11   24    3    1\n",
      "     2    3    8    1   12    0   27]\n",
      " [   3    1    1   35    0    4    9    0    0   12  779    3    1    0\n",
      "     0    4    6    1    4    1  115]\n",
      " [   9    4    2    1    8   25   20    0    0   15    0  911    0    0\n",
      "     0    9    6    2    2    1    3]\n",
      " [   7    3   98    3    5    1   16    2    0    4    1    8  850    1\n",
      "     0    2    9    5    6    5    0]\n",
      " [  33    2    2    8    1    0    2    1    1    2    2    5    2  902\n",
      "     3    4    9    1    4   11    8]\n",
      " [   0    3    0    3    2    0    3    0    1    1    1    4    0    1\n",
      "   941    0    0   32    1    2    1]\n",
      " [   1    9    1   10    1    4    2    0    2    7    3   13    2    0\n",
      "     1  898    6    3    9    7    9]\n",
      " [  10    8    4    3   18    1    2    0    1    7    4   10    0    3\n",
      "     0   11  908    2   32    5    4]\n",
      " [   3    0   15    4    2    3    3    0    1    2    1    2    5    0\n",
      "     7    1    2  962    2    0    5]\n",
      " [   2    4    8    4    6    4    4    2    2   13    4   15    0    1\n",
      "     3    1   16    3  854    6    8]\n",
      " [   0    3   10    0    2    0    2    3    0    0    2    4    2    0\n",
      "     0    0    8    1    0  974    4]\n",
      " [  12    7    1  122    0   15   22    2    2   29  141    8    1    0\n",
      "     0    8    7    2    4    1  632]]\n"
     ]
    }
   ],
   "source": [
    "print(metrics.confusion_matrix(tot_label.cpu(), tot_pred.cpu()))"
   ]
  },
  {
   "cell_type": "code",
   "execution_count": 16,
   "metadata": {},
   "outputs": [],
   "source": [
    "results = metrics.classification_report(tot_label.cpu(), tot_pred.cpu(), output_dict=True)\n",
    "results_df = pd.DataFrame.from_dict(results).transpose()\n",
    "results_df.to_excel('../result/precision_recall_results.xlsx', sheet_name='final_with_test_512a')\n"
   ]
  },
  {
   "cell_type": "code",
   "execution_count": null,
   "metadata": {},
   "outputs": [],
   "source": [
    "# CNN-rand: Word vectors are randomly initialized.\n",
    "tn.set_seed(42)\n",
    "cnn_rand, optimizer = init.initilize_model(device=device,\n",
    "                                           vocab_size=len(ch2idx),\n",
    "                                           embed_dim=100,\n",
    "                                           filter_sizes=[8, 8, 8, 8],\n",
    "                                           num_filters=[100, 200, 200, 100],\n",
    "                                           num_classes=len(class2idx),\n",
    "                                           dropout=0.5,\n",
    "                                           learning_rate=0.25,\n",
    "                                           optimizerName=\"Adadelta\",\n",
    "                                           modelType=\"CNN\")\n",
    "                                        \n",
    "tn.train(device, cnn_rand, optimizer, train_dataloader, '01_test3_cnn', writer, val_dataloader, epochs=20)"
   ]
  }
 ],
 "metadata": {
  "kernelspec": {
   "display_name": "Python 3.9.12 ('base')",
   "language": "python",
   "name": "python3"
  },
  "language_info": {
   "codemirror_mode": {
    "name": "ipython",
    "version": 3
   },
   "file_extension": ".py",
   "mimetype": "text/x-python",
   "name": "python",
   "nbconvert_exporter": "python",
   "pygments_lexer": "ipython3",
   "version": "3.9.12"
  },
  "orig_nbformat": 4,
  "vscode": {
   "interpreter": {
    "hash": "348b9cd948ce87438be2e622031b2ecfa29bc2d3ecc0fd03127b9a24b30227df"
   }
  }
 },
 "nbformat": 4,
 "nbformat_minor": 2
}
